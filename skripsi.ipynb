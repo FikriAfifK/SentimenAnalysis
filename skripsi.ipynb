{
  "cells": [
    {
      "cell_type": "code",
      "execution_count": 36,
      "metadata": {
        "colab": {
          "base_uri": "https://localhost:8080/"
        },
        "id": "mXby6LLkRVVT",
        "outputId": "e6908d71-e4bd-4e9c-cf8f-e88da7ef1c34"
      },
      "outputs": [
        {
          "name": "stdout",
          "output_type": "stream",
          "text": [
            "Requirement already satisfied: sastrawi in c:\\users\\hp\\appdata\\local\\programs\\python\\python38\\lib\\site-packages (1.0.1)\n"
          ]
        },
        {
          "name": "stderr",
          "output_type": "stream",
          "text": [
            "\n",
            "[notice] A new release of pip is available: 24.2 -> 25.0.1\n",
            "[notice] To update, run: python.exe -m pip install --upgrade pip\n"
          ]
        }
      ],
      "source": [
        "!pip install sastrawi"
      ]
    },
    {
      "cell_type": "code",
      "execution_count": 1,
      "metadata": {
        "colab": {
          "base_uri": "https://localhost:8080/"
        },
        "id": "GSMksKWeO2JG",
        "outputId": "ba246635-3a79-4d17-eb3f-b0bc9ec21765"
      },
      "outputs": [
        {
          "name": "stderr",
          "output_type": "stream",
          "text": [
            "[nltk_data] Downloading package stopwords to\n",
            "[nltk_data]     C:\\Users\\HP\\AppData\\Roaming\\nltk_data...\n",
            "[nltk_data]   Package stopwords is already up-to-date!\n"
          ]
        }
      ],
      "source": [
        "import pandas as pd\n",
        "import numpy as np\n",
        "import matplotlib.pyplot as plt\n",
        "import nltk\n",
        "nltk.download('stopwords')\n",
        "import re\n",
        "from Sastrawi.StopWordRemover.StopWordRemoverFactory import StopWordRemoverFactory\n",
        "from nltk.corpus import stopwords\n",
        "from nltk.tokenize import word_tokenize"
      ]
    },
    {
      "cell_type": "markdown",
      "metadata": {
        "id": "_XkWiURnvHWc"
      },
      "source": [
        "# Collecting Data"
      ]
    },
    {
      "cell_type": "code",
      "execution_count": 3,
      "metadata": {
        "colab": {
          "base_uri": "https://localhost:8080/"
        },
        "id": "HM2uSfWlQkCc",
        "outputId": "9022ecb4-0a9c-4bad-f760-31c26e7fe81f"
      },
      "outputs": [
        {
          "name": "stdout",
          "output_type": "stream",
          "text": [
            "Requirement already satisfied: google-play-scraper in c:\\users\\hp\\appdata\\local\\programs\\python\\python38\\lib\\site-packages (1.2.7)\n"
          ]
        },
        {
          "name": "stderr",
          "output_type": "stream",
          "text": [
            "\n",
            "[notice] A new release of pip is available: 24.2 -> 25.0.1\n",
            "[notice] To update, run: python.exe -m pip install --upgrade pip\n"
          ]
        }
      ],
      "source": [
        "!pip install google-play-scraper"
      ]
    },
    {
      "cell_type": "code",
      "execution_count": null,
      "metadata": {
        "id": "FlBo1hMEV4Jx"
      },
      "outputs": [],
      "source": [
        "from google_play_scraper import app, reviews"
      ]
    },
    {
      "cell_type": "code",
      "execution_count": null,
      "metadata": {
        "colab": {
          "base_uri": "https://localhost:8080/"
        },
        "id": "uOCy1yIJV81a",
        "outputId": "5e795e2a-fe03-4323-adab-eaf88e4ba5f6"
      },
      "outputs": [
        {
          "name": "stdout",
          "output_type": "stream",
          "text": [
            "Jumlah ulasan: 2336\n",
            "Contoh ulasan:\n",
            "{'reviewId': '66986454-6a5e-47d3-83e6-cc742a7c6da4', 'userName': 'Pengguna Google', 'userImage': 'https://play-lh.googleusercontent.com/EGemoI2NTXmTsBVtJqk8jxF9rh8ApRWfsIMQSt2uE4OcpQqbFu7f7NbTK05lx80nuSijCz7sc3a277R67g', 'content': 'bagus', 'score': 5, 'thumbsUpCount': 0, 'reviewCreatedVersion': '7.25.603', 'at': datetime.datetime(2025, 6, 3, 13, 54, 35), 'replyContent': None, 'repliedAt': None, 'appVersion': '7.25.603'}\n"
          ]
        }
      ],
      "source": [
        "from google_play_scraper import reviews, Sort\n",
        "\n",
        "app_id = 'com.zalora.android'\n",
        "\n",
        "def get_reviews(app_id, lang='id', count=5000, sort=Sort.NEWEST, filter_score_with=None, filter_device_with=None, continuation_token=None):\n",
        "    try:\n",
        "        result, continuation_token = reviews(\n",
        "            app_id,\n",
        "            lang=lang,\n",
        "            country='id',\n",
        "            sort=sort,\n",
        "            count=count,\n",
        "            filter_score_with=filter_score_with,\n",
        "            filter_device_with=filter_device_with,\n",
        "            continuation_token=continuation_token\n",
        "        )\n",
        "        return result, continuation_token\n",
        "    except Exception as e:\n",
        "        print(\"Error:\", e)\n",
        "        return None, None\n",
        "\n",
        "reviews, continuation_token = get_reviews(app_id)\n",
        "\n",
        "if reviews is not None:\n",
        "    print(\"Jumlah ulasan:\", len(reviews))\n",
        "    if len(reviews) > 0:\n",
        "        print(\"Contoh ulasan:\")\n",
        "        print(reviews[0])\n",
        "else:\n",
        "  print(\"Tidak dapat mengambil ulasan.\")"
      ]
    },
    {
      "cell_type": "code",
      "execution_count": null,
      "metadata": {
        "colab": {
          "base_uri": "https://localhost:8080/"
        },
        "id": "JZmyxiKFWCRs",
        "outputId": "9764e3d9-ba1e-4ede-ba3f-24f9f9177613"
      },
      "outputs": [],
      "source": [
        "from deep_translator import GoogleTranslator\n",
        "\n",
        "def export_to_csv(reviews, file_name=\"zalora.csv\"):\n",
        "    if reviews:\n",
        "        data = {\n",
        "            \"Review Text\": [review[\"content\"] for review in reviews]\n",
        "        }\n",
        "        df = pd.DataFrame(data)\n",
        "        df.to_csv(file_name, index=False)\n",
        "        print(f\"Data berhasil diekspor ke '{file_name}'\")\n",
        "    else:\n",
        "        print(\"Tidak ada data ulasan untuk diekspor.\")\n",
        "\n",
        "export_to_csv(reviews)"
      ]
    },
    {
      "cell_type": "markdown",
      "metadata": {
        "id": "7VQeE3e8dRYU"
      },
      "source": [
        "# Explore Data"
      ]
    },
    {
      "cell_type": "code",
      "execution_count": 49,
      "metadata": {
        "colab": {
          "base_uri": "https://localhost:8080/",
          "height": 423
        },
        "id": "5uCxMyxHRQPT",
        "outputId": "25dbf46d-17b1-4ede-e938-cf5827ab1b21"
      },
      "outputs": [
        {
          "data": {
            "text/html": [
              "<div>\n",
              "<style scoped>\n",
              "    .dataframe tbody tr th:only-of-type {\n",
              "        vertical-align: middle;\n",
              "    }\n",
              "\n",
              "    .dataframe tbody tr th {\n",
              "        vertical-align: top;\n",
              "    }\n",
              "\n",
              "    .dataframe thead th {\n",
              "        text-align: right;\n",
              "    }\n",
              "</style>\n",
              "<table border=\"1\" class=\"dataframe\">\n",
              "  <thead>\n",
              "    <tr style=\"text-align: right;\">\n",
              "      <th></th>\n",
              "      <th>Review Text</th>\n",
              "    </tr>\n",
              "  </thead>\n",
              "  <tbody>\n",
              "    <tr>\n",
              "      <th>0</th>\n",
              "      <td>good</td>\n",
              "    </tr>\n",
              "    <tr>\n",
              "      <th>1</th>\n",
              "      <td>best</td>\n",
              "    </tr>\n",
              "    <tr>\n",
              "      <th>2</th>\n",
              "      <td>disini banyak diskon</td>\n",
              "    </tr>\n",
              "    <tr>\n",
              "      <th>3</th>\n",
              "      <td>Sangat memuaskan</td>\n",
              "    </tr>\n",
              "    <tr>\n",
              "      <th>4</th>\n",
              "      <td>keren</td>\n",
              "    </tr>\n",
              "    <tr>\n",
              "      <th>...</th>\n",
              "      <td>...</td>\n",
              "    </tr>\n",
              "    <tr>\n",
              "      <th>4995</th>\n",
              "      <td>ok</td>\n",
              "    </tr>\n",
              "    <tr>\n",
              "      <th>4996</th>\n",
              "      <td>memuaskan</td>\n",
              "    </tr>\n",
              "    <tr>\n",
              "      <th>4997</th>\n",
              "      <td>Bagus bebas untuk pilihan produk</td>\n",
              "    </tr>\n",
              "    <tr>\n",
              "      <th>4998</th>\n",
              "      <td>terbaik</td>\n",
              "    </tr>\n",
              "    <tr>\n",
              "      <th>4999</th>\n",
              "      <td>profuknya bagus bagus harganya juga bagus</td>\n",
              "    </tr>\n",
              "  </tbody>\n",
              "</table>\n",
              "<p>5000 rows × 1 columns</p>\n",
              "</div>"
            ],
            "text/plain": [
              "                                    Review Text\n",
              "0                                          good\n",
              "1                                          best\n",
              "2                          disini banyak diskon\n",
              "3                              Sangat memuaskan\n",
              "4                                         keren\n",
              "...                                         ...\n",
              "4995                                         ok\n",
              "4996                                  memuaskan\n",
              "4997           Bagus bebas untuk pilihan produk\n",
              "4998                                    terbaik\n",
              "4999  profuknya bagus bagus harganya juga bagus\n",
              "\n",
              "[5000 rows x 1 columns]"
            ]
          },
          "execution_count": 49,
          "metadata": {},
          "output_type": "execute_result"
        }
      ],
      "source": [
        "df = pd.read_csv('./data/zalora_ulasan.csv')\n",
        "df"
      ]
    },
    {
      "cell_type": "code",
      "execution_count": 50,
      "metadata": {
        "colab": {
          "base_uri": "https://localhost:8080/"
        },
        "id": "Q6Ma1KlyVZFf",
        "outputId": "4d126eb2-1bb3-402d-a5eb-42579eca018d"
      },
      "outputs": [
        {
          "name": "stdout",
          "output_type": "stream",
          "text": [
            "Ukuran Dataset : (5000, 1)\n",
            "Kolom : Index(['Review Text'], dtype='object')\n"
          ]
        }
      ],
      "source": [
        "print('Ukuran Dataset :', df.shape)\n",
        "print('Kolom :', df.columns)"
      ]
    },
    {
      "cell_type": "code",
      "execution_count": 51,
      "metadata": {
        "colab": {
          "base_uri": "https://localhost:8080/"
        },
        "id": "-5syVI6ydkul",
        "outputId": "300e969d-9b2f-4a68-d503-c2ba7b2b5562"
      },
      "outputs": [
        {
          "name": "stdout",
          "output_type": "stream",
          "text": [
            "<class 'pandas.core.frame.DataFrame'>\n",
            "RangeIndex: 5000 entries, 0 to 4999\n",
            "Data columns (total 1 columns):\n",
            " #   Column       Non-Null Count  Dtype \n",
            "---  ------       --------------  ----- \n",
            " 0   Review Text  5000 non-null   object\n",
            "dtypes: object(1)\n",
            "memory usage: 39.2+ KB\n"
          ]
        }
      ],
      "source": [
        "df.info()"
      ]
    },
    {
      "cell_type": "code",
      "execution_count": 31,
      "metadata": {
        "colab": {
          "base_uri": "https://localhost:8080/",
          "height": 363
        },
        "id": "9bxHBsseWbGq",
        "outputId": "d8c1cbd5-1db4-4798-e198-e9a466cbd28b"
      },
      "outputs": [
        {
          "data": {
            "text/html": [
              "<div>\n",
              "<style scoped>\n",
              "    .dataframe tbody tr th:only-of-type {\n",
              "        vertical-align: middle;\n",
              "    }\n",
              "\n",
              "    .dataframe tbody tr th {\n",
              "        vertical-align: top;\n",
              "    }\n",
              "\n",
              "    .dataframe thead th {\n",
              "        text-align: right;\n",
              "    }\n",
              "</style>\n",
              "<table border=\"1\" class=\"dataframe\">\n",
              "  <thead>\n",
              "    <tr style=\"text-align: right;\">\n",
              "      <th></th>\n",
              "      <th>Review Text</th>\n",
              "    </tr>\n",
              "  </thead>\n",
              "  <tbody>\n",
              "    <tr>\n",
              "      <th>0</th>\n",
              "      <td>NaN</td>\n",
              "    </tr>\n",
              "    <tr>\n",
              "      <th>1</th>\n",
              "      <td>NaN</td>\n",
              "    </tr>\n",
              "    <tr>\n",
              "      <th>2</th>\n",
              "      <td>NaN</td>\n",
              "    </tr>\n",
              "    <tr>\n",
              "      <th>3</th>\n",
              "      <td>NaN</td>\n",
              "    </tr>\n",
              "    <tr>\n",
              "      <th>4</th>\n",
              "      <td>min introgasi di pt jiale imdonesia garmenr pa...</td>\n",
              "    </tr>\n",
              "    <tr>\n",
              "      <th>5</th>\n",
              "      <td>NaN</td>\n",
              "    </tr>\n",
              "    <tr>\n",
              "      <th>6</th>\n",
              "      <td>membantu kita untuk mencari fashion yg sesuai ...</td>\n",
              "    </tr>\n",
              "    <tr>\n",
              "      <th>7</th>\n",
              "      <td>buat yg ga punya waktu dan ga suka antri cocok...</td>\n",
              "    </tr>\n",
              "    <tr>\n",
              "      <th>8</th>\n",
              "      <td>NaN</td>\n",
              "    </tr>\n",
              "    <tr>\n",
              "      <th>9</th>\n",
              "      <td>apps nya jelek. mw liat kaos UT aja bgg cariny...</td>\n",
              "    </tr>\n",
              "  </tbody>\n",
              "</table>\n",
              "</div>"
            ],
            "text/plain": [
              "                                         Review Text\n",
              "0                                                NaN\n",
              "1                                                NaN\n",
              "2                                                NaN\n",
              "3                                                NaN\n",
              "4  min introgasi di pt jiale imdonesia garmenr pa...\n",
              "5                                                NaN\n",
              "6  membantu kita untuk mencari fashion yg sesuai ...\n",
              "7  buat yg ga punya waktu dan ga suka antri cocok...\n",
              "8                                                NaN\n",
              "9  apps nya jelek. mw liat kaos UT aja bgg cariny..."
            ]
          },
          "execution_count": 31,
          "metadata": {},
          "output_type": "execute_result"
        }
      ],
      "source": [
        "kolom_hapus = ['Review ID', 'Username', 'Rating', 'Date;']\n",
        "df = df.drop(kolom_hapus, axis=1)\n",
        "\n",
        "df.head(10)"
      ]
    },
    {
      "cell_type": "code",
      "execution_count": 52,
      "metadata": {
        "colab": {
          "base_uri": "https://localhost:8080/"
        },
        "id": "NR6v8o5zfNRV",
        "outputId": "74f23bc0-c9d7-4fed-c18d-52a88be1637c"
      },
      "outputs": [
        {
          "name": "stdout",
          "output_type": "stream",
          "text": [
            "<class 'pandas.core.frame.DataFrame'>\n",
            "RangeIndex: 5000 entries, 0 to 4999\n",
            "Data columns (total 1 columns):\n",
            " #   Column       Non-Null Count  Dtype \n",
            "---  ------       --------------  ----- \n",
            " 0   Review Text  5000 non-null   object\n",
            "dtypes: object(1)\n",
            "memory usage: 39.2+ KB\n"
          ]
        }
      ],
      "source": [
        "df.info()"
      ]
    },
    {
      "cell_type": "code",
      "execution_count": 53,
      "metadata": {
        "colab": {
          "base_uri": "https://localhost:8080/",
          "height": 423
        },
        "id": "bdCxwb8qxG49",
        "outputId": "bb66ef76-f613-467f-c65e-e9c67937fcaa"
      },
      "outputs": [
        {
          "data": {
            "text/html": [
              "<div>\n",
              "<style scoped>\n",
              "    .dataframe tbody tr th:only-of-type {\n",
              "        vertical-align: middle;\n",
              "    }\n",
              "\n",
              "    .dataframe tbody tr th {\n",
              "        vertical-align: top;\n",
              "    }\n",
              "\n",
              "    .dataframe thead th {\n",
              "        text-align: right;\n",
              "    }\n",
              "</style>\n",
              "<table border=\"1\" class=\"dataframe\">\n",
              "  <thead>\n",
              "    <tr style=\"text-align: right;\">\n",
              "      <th></th>\n",
              "      <th>Review Text</th>\n",
              "    </tr>\n",
              "  </thead>\n",
              "  <tbody>\n",
              "    <tr>\n",
              "      <th>0</th>\n",
              "      <td>good</td>\n",
              "    </tr>\n",
              "    <tr>\n",
              "      <th>1</th>\n",
              "      <td>best</td>\n",
              "    </tr>\n",
              "    <tr>\n",
              "      <th>2</th>\n",
              "      <td>disini banyak diskon</td>\n",
              "    </tr>\n",
              "    <tr>\n",
              "      <th>3</th>\n",
              "      <td>Sangat memuaskan</td>\n",
              "    </tr>\n",
              "    <tr>\n",
              "      <th>4</th>\n",
              "      <td>keren</td>\n",
              "    </tr>\n",
              "    <tr>\n",
              "      <th>...</th>\n",
              "      <td>...</td>\n",
              "    </tr>\n",
              "    <tr>\n",
              "      <th>4995</th>\n",
              "      <td>ok</td>\n",
              "    </tr>\n",
              "    <tr>\n",
              "      <th>4996</th>\n",
              "      <td>memuaskan</td>\n",
              "    </tr>\n",
              "    <tr>\n",
              "      <th>4997</th>\n",
              "      <td>Bagus bebas untuk pilihan produk</td>\n",
              "    </tr>\n",
              "    <tr>\n",
              "      <th>4998</th>\n",
              "      <td>terbaik</td>\n",
              "    </tr>\n",
              "    <tr>\n",
              "      <th>4999</th>\n",
              "      <td>profuknya bagus bagus harganya juga bagus</td>\n",
              "    </tr>\n",
              "  </tbody>\n",
              "</table>\n",
              "<p>5000 rows × 1 columns</p>\n",
              "</div>"
            ],
            "text/plain": [
              "                                    Review Text\n",
              "0                                          good\n",
              "1                                          best\n",
              "2                          disini banyak diskon\n",
              "3                              Sangat memuaskan\n",
              "4                                         keren\n",
              "...                                         ...\n",
              "4995                                         ok\n",
              "4996                                  memuaskan\n",
              "4997           Bagus bebas untuk pilihan produk\n",
              "4998                                    terbaik\n",
              "4999  profuknya bagus bagus harganya juga bagus\n",
              "\n",
              "[5000 rows x 1 columns]"
            ]
          },
          "execution_count": 53,
          "metadata": {},
          "output_type": "execute_result"
        }
      ],
      "source": [
        "df.dropna()"
      ]
    },
    {
      "cell_type": "code",
      "execution_count": 54,
      "metadata": {
        "colab": {
          "base_uri": "https://localhost:8080/"
        },
        "id": "EI90ijJMzLdy",
        "outputId": "8b801239-9990-4236-ba88-a0fbe40bd4c4"
      },
      "outputs": [
        {
          "data": {
            "text/plain": [
              "1385"
            ]
          },
          "execution_count": 54,
          "metadata": {},
          "output_type": "execute_result"
        }
      ],
      "source": [
        "df.duplicated().sum()"
      ]
    },
    {
      "cell_type": "code",
      "execution_count": 55,
      "metadata": {
        "id": "9vysfDUVxWYv"
      },
      "outputs": [],
      "source": [
        "df.drop_duplicates(keep = 'first', inplace = True)"
      ]
    },
    {
      "cell_type": "code",
      "execution_count": 56,
      "metadata": {
        "id": "ZIBd0Gx3Vsq_"
      },
      "outputs": [],
      "source": [
        "df['Review Text'] = df['Review Text'].fillna('')"
      ]
    },
    {
      "cell_type": "code",
      "execution_count": 57,
      "metadata": {
        "id": "xF32zaXc3qXW"
      },
      "outputs": [],
      "source": [
        "# Ganti string kosong atau spasi dengan NaN\n",
        "df['Review Text'] = df['Review Text'].replace(r'^\\s*$', None, regex=True)"
      ]
    },
    {
      "cell_type": "code",
      "execution_count": 58,
      "metadata": {
        "id": "pKgP9ikl3tvn"
      },
      "outputs": [],
      "source": [
        "# Hapus baris dengan NaN di kolom 'Review'\n",
        "df = df.dropna(subset=['Review Text'])"
      ]
    },
    {
      "cell_type": "code",
      "execution_count": 59,
      "metadata": {
        "colab": {
          "base_uri": "https://localhost:8080/"
        },
        "id": "zhMBC-b10yGU",
        "outputId": "29e53462-64ce-47e7-f0f2-c11128f31fde"
      },
      "outputs": [
        {
          "data": {
            "text/plain": [
              "0"
            ]
          },
          "execution_count": 59,
          "metadata": {},
          "output_type": "execute_result"
        }
      ],
      "source": [
        "df.duplicated().sum()"
      ]
    },
    {
      "cell_type": "code",
      "execution_count": 60,
      "metadata": {
        "colab": {
          "base_uri": "https://localhost:8080/",
          "height": 115
        },
        "id": "rUHzpzm6mSkJ",
        "outputId": "d6304352-43a7-46b7-ec21-d9078e397d7f"
      },
      "outputs": [
        {
          "data": {
            "text/plain": [
              "Review Text    0\n",
              "dtype: int64"
            ]
          },
          "execution_count": 60,
          "metadata": {},
          "output_type": "execute_result"
        }
      ],
      "source": [
        "df.isna().sum()"
      ]
    },
    {
      "cell_type": "code",
      "execution_count": 61,
      "metadata": {
        "colab": {
          "base_uri": "https://localhost:8080/"
        },
        "id": "1qakfMX7gJYg",
        "outputId": "235a5e52-4705-4a02-e22d-a690c32b0590"
      },
      "outputs": [
        {
          "name": "stdout",
          "output_type": "stream",
          "text": [
            "<class 'pandas.core.frame.DataFrame'>\n",
            "Index: 3615 entries, 0 to 4999\n",
            "Data columns (total 1 columns):\n",
            " #   Column       Non-Null Count  Dtype \n",
            "---  ------       --------------  ----- \n",
            " 0   Review Text  3615 non-null   object\n",
            "dtypes: object(1)\n",
            "memory usage: 56.5+ KB\n"
          ]
        }
      ],
      "source": [
        "df.info()"
      ]
    },
    {
      "cell_type": "code",
      "execution_count": 62,
      "metadata": {
        "colab": {
          "base_uri": "https://localhost:8080/"
        },
        "id": "OvfSFjoag1Rk",
        "outputId": "be715b1a-f8c6-4f05-8509-44fbe6bed7a8"
      },
      "outputs": [
        {
          "data": {
            "text/plain": [
              "(3615, 1)"
            ]
          },
          "execution_count": 62,
          "metadata": {},
          "output_type": "execute_result"
        }
      ],
      "source": [
        "df.shape"
      ]
    },
    {
      "cell_type": "code",
      "execution_count": 63,
      "metadata": {
        "id": "RZjy4GOWuBa2"
      },
      "outputs": [],
      "source": [
        "file_path = './data/hasilEDA_zalora.csv'\n",
        "\n",
        "# Simpan DataFrame ke dalam file CSV\n",
        "df.to_csv(file_path, index=False)"
      ]
    },
    {
      "cell_type": "markdown",
      "metadata": {
        "id": "EOl_t2Rojppa"
      },
      "source": [
        "# Peprocessing Data\n",
        "- Cleaning\n",
        "- Case Folding\n",
        "- Tokenizing\n",
        "- Negation Handling\n",
        "- Stopword Removal\n",
        "- Normalizing\n",
        "- Stemming"
      ]
    },
    {
      "cell_type": "code",
      "execution_count": 99,
      "metadata": {
        "colab": {
          "base_uri": "https://localhost:8080/",
          "height": 423
        },
        "id": "JY0A795Dutul",
        "outputId": "3c0cc8c3-8249-4d82-e6d4-a7bdea04c0f3"
      },
      "outputs": [
        {
          "data": {
            "text/html": [
              "<div>\n",
              "<style scoped>\n",
              "    .dataframe tbody tr th:only-of-type {\n",
              "        vertical-align: middle;\n",
              "    }\n",
              "\n",
              "    .dataframe tbody tr th {\n",
              "        vertical-align: top;\n",
              "    }\n",
              "\n",
              "    .dataframe thead th {\n",
              "        text-align: right;\n",
              "    }\n",
              "</style>\n",
              "<table border=\"1\" class=\"dataframe\">\n",
              "  <thead>\n",
              "    <tr style=\"text-align: right;\">\n",
              "      <th></th>\n",
              "      <th>Review Text</th>\n",
              "    </tr>\n",
              "  </thead>\n",
              "  <tbody>\n",
              "    <tr>\n",
              "      <th>0</th>\n",
              "      <td>good</td>\n",
              "    </tr>\n",
              "    <tr>\n",
              "      <th>1</th>\n",
              "      <td>best</td>\n",
              "    </tr>\n",
              "    <tr>\n",
              "      <th>2</th>\n",
              "      <td>disini banyak diskon</td>\n",
              "    </tr>\n",
              "    <tr>\n",
              "      <th>3</th>\n",
              "      <td>Sangat memuaskan</td>\n",
              "    </tr>\n",
              "    <tr>\n",
              "      <th>4</th>\n",
              "      <td>keren</td>\n",
              "    </tr>\n",
              "    <tr>\n",
              "      <th>...</th>\n",
              "      <td>...</td>\n",
              "    </tr>\n",
              "    <tr>\n",
              "      <th>3610</th>\n",
              "      <td>pilihan barangnya buaaaanyak .... 👍👍</td>\n",
              "    </tr>\n",
              "    <tr>\n",
              "      <th>3611</th>\n",
              "      <td>puas belanjanya</td>\n",
              "    </tr>\n",
              "    <tr>\n",
              "      <th>3612</th>\n",
              "      <td>aplikasinya bagus untuk berbelanja online,...</td>\n",
              "    </tr>\n",
              "    <tr>\n",
              "      <th>3613</th>\n",
              "      <td>Bagus bebas untuk pilihan produk</td>\n",
              "    </tr>\n",
              "    <tr>\n",
              "      <th>3614</th>\n",
              "      <td>profuknya bagus bagus harganya juga bagus</td>\n",
              "    </tr>\n",
              "  </tbody>\n",
              "</table>\n",
              "<p>3615 rows × 1 columns</p>\n",
              "</div>"
            ],
            "text/plain": [
              "                                        Review Text\n",
              "0                                              good\n",
              "1                                              best\n",
              "2                              disini banyak diskon\n",
              "3                                  Sangat memuaskan\n",
              "4                                             keren\n",
              "...                                             ...\n",
              "3610           pilihan barangnya buaaaanyak .... 👍👍\n",
              "3611                                puas belanjanya\n",
              "3612  aplikasinya bagus untuk berbelanja online,...\n",
              "3613               Bagus bebas untuk pilihan produk\n",
              "3614      profuknya bagus bagus harganya juga bagus\n",
              "\n",
              "[3615 rows x 1 columns]"
            ]
          },
          "execution_count": 99,
          "metadata": {},
          "output_type": "execute_result"
        }
      ],
      "source": [
        "df = pd.read_csv('./data/hasilEDA_zalora.csv')\n",
        "df"
      ]
    },
    {
      "cell_type": "markdown",
      "metadata": {
        "id": "-HCeFyQkky9F"
      },
      "source": [
        "## Cleaning"
      ]
    },
    {
      "cell_type": "code",
      "execution_count": 4,
      "metadata": {
        "colab": {
          "base_uri": "https://localhost:8080/"
        },
        "id": "tBb-S60K5AIV",
        "outputId": "9dec8088-db69-4cc3-af0f-47145ac949fb"
      },
      "outputs": [
        {
          "name": "stdout",
          "output_type": "stream",
          "text": [
            "Requirement already satisfied: emoji in c:\\users\\hp\\appdata\\local\\programs\\python\\python38\\lib\\site-packages (2.14.1)\n",
            "Requirement already satisfied: typing_extensions>=4.7.0 in c:\\users\\hp\\appdata\\local\\programs\\python\\python38\\lib\\site-packages (from emoji) (4.12.2)\n",
            "Note: you may need to restart the kernel to use updated packages.\n"
          ]
        },
        {
          "name": "stderr",
          "output_type": "stream",
          "text": [
            "\n",
            "[notice] A new release of pip is available: 24.2 -> 25.0.1\n",
            "[notice] To update, run: python.exe -m pip install --upgrade pip\n"
          ]
        }
      ],
      "source": [
        "pip install emoji"
      ]
    },
    {
      "cell_type": "code",
      "execution_count": 16,
      "metadata": {
        "id": "3IMZl1mJFhAM"
      },
      "outputs": [],
      "source": [
        "#cleaning\n",
        "import re\n",
        "import emoji\n",
        "\n",
        "def remove_URL(text):\n",
        "    if text is not None and isinstance(text, str):\n",
        "        url = re.compile(r\"https?://\\S+|www\\.\\S+\")\n",
        "        return url.sub(r'', text)\n",
        "    else:\n",
        "        return text\n",
        "\n",
        "def remove_html(text):\n",
        "    if text is not None and isinstance(text, str):\n",
        "        html = re.compile(r\"<.*?>\")\n",
        "        return html.sub(r'', text)\n",
        "    else:\n",
        "        return text\n",
        "\n",
        "def remove_emoji(text):\n",
        "    if text is not None and isinstance(text, str):\n",
        "        return emoji.replace_emoji(text, replace='')\n",
        "    return text\n",
        "\n",
        "def remove_symbols(text):\n",
        "    if text is not None and isinstance(text, str):\n",
        "        text = re.sub(r\"[^A-Za-z0-9\\s]\", \" \", text)\n",
        "    return text\n",
        "\n",
        "def remove_numbers(text):\n",
        "    if text is not None and isinstance(text, str):\n",
        "        text = re.sub(r\"\\d\", \" \", text)\n",
        "    return text\n",
        "\n",
        "def remove_punctuation(text):\n",
        "    if text is not None and isinstance(text, str):\n",
        "        text = re.sub(r\"[^\\w\\s]\", \" \", text)\n",
        "    return text\n",
        "\n",
        "def remove_extra_whitespace(text):\n",
        "    if text is not None and isinstance(text, str):\n",
        "        text = re.sub(r\"\\s+\", \" \", text).strip()\n",
        "    return text"
      ]
    },
    {
      "cell_type": "code",
      "execution_count": 100,
      "metadata": {
        "colab": {
          "base_uri": "https://localhost:8080/",
          "height": 206
        },
        "id": "m74O2kmmlAP3",
        "outputId": "5127d4f6-45f3-47d7-8b3a-c9ae7781e6a4"
      },
      "outputs": [
        {
          "data": {
            "text/html": [
              "<div>\n",
              "<style scoped>\n",
              "    .dataframe tbody tr th:only-of-type {\n",
              "        vertical-align: middle;\n",
              "    }\n",
              "\n",
              "    .dataframe tbody tr th {\n",
              "        vertical-align: top;\n",
              "    }\n",
              "\n",
              "    .dataframe thead th {\n",
              "        text-align: right;\n",
              "    }\n",
              "</style>\n",
              "<table border=\"1\" class=\"dataframe\">\n",
              "  <thead>\n",
              "    <tr style=\"text-align: right;\">\n",
              "      <th></th>\n",
              "      <th>Review Text</th>\n",
              "      <th>cleaning</th>\n",
              "    </tr>\n",
              "  </thead>\n",
              "  <tbody>\n",
              "    <tr>\n",
              "      <th>0</th>\n",
              "      <td>good</td>\n",
              "      <td>good</td>\n",
              "    </tr>\n",
              "    <tr>\n",
              "      <th>1</th>\n",
              "      <td>best</td>\n",
              "      <td>best</td>\n",
              "    </tr>\n",
              "    <tr>\n",
              "      <th>2</th>\n",
              "      <td>disini banyak diskon</td>\n",
              "      <td>disini banyak diskon</td>\n",
              "    </tr>\n",
              "    <tr>\n",
              "      <th>3</th>\n",
              "      <td>Sangat memuaskan</td>\n",
              "      <td>Sangat memuaskan</td>\n",
              "    </tr>\n",
              "    <tr>\n",
              "      <th>4</th>\n",
              "      <td>keren</td>\n",
              "      <td>keren</td>\n",
              "    </tr>\n",
              "  </tbody>\n",
              "</table>\n",
              "</div>"
            ],
            "text/plain": [
              "            Review Text              cleaning\n",
              "0                  good                  good\n",
              "1                  best                  best\n",
              "2  disini banyak diskon  disini banyak diskon\n",
              "3      Sangat memuaskan      Sangat memuaskan\n",
              "4                 keren                 keren"
            ]
          },
          "execution_count": 100,
          "metadata": {},
          "output_type": "execute_result"
        }
      ],
      "source": [
        "df[\"cleaning\"] = df[\"Review Text\"].apply(lambda x: remove_URL(x))\n",
        "df[\"cleaning\"] = df[\"cleaning\"].apply(lambda x: remove_html(x))\n",
        "df[\"cleaning\"] = df[\"cleaning\"].apply(lambda x: remove_emoji(x))\n",
        "df[\"cleaning\"] = df[\"cleaning\"].apply(lambda x: remove_symbols(x))\n",
        "df[\"cleaning\"] = df[\"cleaning\"].apply(lambda x: remove_numbers(x))\n",
        "df[\"cleaning\"] = df[\"cleaning\"].apply(lambda x: remove_punctuation(x))\n",
        "df[\"cleaning\"] = df[\"cleaning\"].apply(lambda x: remove_extra_whitespace(x))\n",
        "df.head(5)"
      ]
    },
    {
      "cell_type": "markdown",
      "metadata": {
        "id": "cxjodwjUrEOo"
      },
      "source": [
        "## Case Folding"
      ]
    },
    {
      "cell_type": "code",
      "execution_count": 17,
      "metadata": {
        "id": "kPn_BeEjFQMO"
      },
      "outputs": [],
      "source": [
        "def case_folding(text):\n",
        "    if isinstance(text, str):\n",
        "        lowercase_text = text.lower()\n",
        "        return lowercase_text\n",
        "    else:\n",
        "        return text"
      ]
    },
    {
      "cell_type": "code",
      "execution_count": 101,
      "metadata": {
        "colab": {
          "base_uri": "https://localhost:8080/",
          "height": 206
        },
        "id": "YPTdRhBorHYD",
        "outputId": "12470ed6-a90b-4788-a780-76829ba1e226"
      },
      "outputs": [
        {
          "data": {
            "text/html": [
              "<div>\n",
              "<style scoped>\n",
              "    .dataframe tbody tr th:only-of-type {\n",
              "        vertical-align: middle;\n",
              "    }\n",
              "\n",
              "    .dataframe tbody tr th {\n",
              "        vertical-align: top;\n",
              "    }\n",
              "\n",
              "    .dataframe thead th {\n",
              "        text-align: right;\n",
              "    }\n",
              "</style>\n",
              "<table border=\"1\" class=\"dataframe\">\n",
              "  <thead>\n",
              "    <tr style=\"text-align: right;\">\n",
              "      <th></th>\n",
              "      <th>Review Text</th>\n",
              "      <th>cleaning</th>\n",
              "      <th>case_folding</th>\n",
              "    </tr>\n",
              "  </thead>\n",
              "  <tbody>\n",
              "    <tr>\n",
              "      <th>0</th>\n",
              "      <td>good</td>\n",
              "      <td>good</td>\n",
              "      <td>good</td>\n",
              "    </tr>\n",
              "    <tr>\n",
              "      <th>1</th>\n",
              "      <td>best</td>\n",
              "      <td>best</td>\n",
              "      <td>best</td>\n",
              "    </tr>\n",
              "    <tr>\n",
              "      <th>2</th>\n",
              "      <td>disini banyak diskon</td>\n",
              "      <td>disini banyak diskon</td>\n",
              "      <td>disini banyak diskon</td>\n",
              "    </tr>\n",
              "    <tr>\n",
              "      <th>3</th>\n",
              "      <td>Sangat memuaskan</td>\n",
              "      <td>Sangat memuaskan</td>\n",
              "      <td>sangat memuaskan</td>\n",
              "    </tr>\n",
              "    <tr>\n",
              "      <th>4</th>\n",
              "      <td>keren</td>\n",
              "      <td>keren</td>\n",
              "      <td>keren</td>\n",
              "    </tr>\n",
              "  </tbody>\n",
              "</table>\n",
              "</div>"
            ],
            "text/plain": [
              "            Review Text              cleaning          case_folding\n",
              "0                  good                  good                  good\n",
              "1                  best                  best                  best\n",
              "2  disini banyak diskon  disini banyak diskon  disini banyak diskon\n",
              "3      Sangat memuaskan      Sangat memuaskan      sangat memuaskan\n",
              "4                 keren                 keren                 keren"
            ]
          },
          "execution_count": 101,
          "metadata": {},
          "output_type": "execute_result"
        }
      ],
      "source": [
        "df[\"case_folding\"] = df[\"cleaning\"].apply(case_folding)\n",
        "df.head(5)"
      ]
    },
    {
      "cell_type": "markdown",
      "metadata": {
        "id": "4mEZG2vxtMjP"
      },
      "source": [
        "## Tokenizing"
      ]
    },
    {
      "cell_type": "code",
      "execution_count": null,
      "metadata": {
        "colab": {
          "base_uri": "https://localhost:8080/"
        },
        "id": "Uy8qf2hdEBwl",
        "outputId": "3f331d7f-efb3-4c33-d033-1e9492fd710e"
      },
      "outputs": [
        {
          "name": "stderr",
          "output_type": "stream",
          "text": [
            "[nltk_data] Downloading package punkt_tab to\n",
            "[nltk_data]     C:\\Users\\HP\\AppData\\Roaming\\nltk_data...\n",
            "[nltk_data]   Package punkt_tab is already up-to-date!\n"
          ]
        }
      ],
      "source": [
        "import nltk\n",
        "nltk.download('punkt_tab')\n",
        "\n",
        "def tokenize(text):\n",
        "    tokens = word_tokenize(text)\n",
        "    return tokens"
      ]
    },
    {
      "cell_type": "code",
      "execution_count": 102,
      "metadata": {
        "colab": {
          "base_uri": "https://localhost:8080/",
          "height": 206
        },
        "id": "rU1YX7l8tISM",
        "outputId": "55fd1d51-81e0-4d72-c8fe-2f6c115bde7c"
      },
      "outputs": [
        {
          "data": {
            "text/html": [
              "<div>\n",
              "<style scoped>\n",
              "    .dataframe tbody tr th:only-of-type {\n",
              "        vertical-align: middle;\n",
              "    }\n",
              "\n",
              "    .dataframe tbody tr th {\n",
              "        vertical-align: top;\n",
              "    }\n",
              "\n",
              "    .dataframe thead th {\n",
              "        text-align: right;\n",
              "    }\n",
              "</style>\n",
              "<table border=\"1\" class=\"dataframe\">\n",
              "  <thead>\n",
              "    <tr style=\"text-align: right;\">\n",
              "      <th></th>\n",
              "      <th>Review Text</th>\n",
              "      <th>cleaning</th>\n",
              "      <th>case_folding</th>\n",
              "      <th>tokenize</th>\n",
              "    </tr>\n",
              "  </thead>\n",
              "  <tbody>\n",
              "    <tr>\n",
              "      <th>0</th>\n",
              "      <td>good</td>\n",
              "      <td>good</td>\n",
              "      <td>good</td>\n",
              "      <td>[good]</td>\n",
              "    </tr>\n",
              "    <tr>\n",
              "      <th>1</th>\n",
              "      <td>best</td>\n",
              "      <td>best</td>\n",
              "      <td>best</td>\n",
              "      <td>[best]</td>\n",
              "    </tr>\n",
              "    <tr>\n",
              "      <th>2</th>\n",
              "      <td>disini banyak diskon</td>\n",
              "      <td>disini banyak diskon</td>\n",
              "      <td>disini banyak diskon</td>\n",
              "      <td>[disini, banyak, diskon]</td>\n",
              "    </tr>\n",
              "    <tr>\n",
              "      <th>3</th>\n",
              "      <td>Sangat memuaskan</td>\n",
              "      <td>Sangat memuaskan</td>\n",
              "      <td>sangat memuaskan</td>\n",
              "      <td>[sangat, memuaskan]</td>\n",
              "    </tr>\n",
              "    <tr>\n",
              "      <th>4</th>\n",
              "      <td>keren</td>\n",
              "      <td>keren</td>\n",
              "      <td>keren</td>\n",
              "      <td>[keren]</td>\n",
              "    </tr>\n",
              "  </tbody>\n",
              "</table>\n",
              "</div>"
            ],
            "text/plain": [
              "            Review Text              cleaning          case_folding  \\\n",
              "0                  good                  good                  good   \n",
              "1                  best                  best                  best   \n",
              "2  disini banyak diskon  disini banyak diskon  disini banyak diskon   \n",
              "3      Sangat memuaskan      Sangat memuaskan      sangat memuaskan   \n",
              "4                 keren                 keren                 keren   \n",
              "\n",
              "                   tokenize  \n",
              "0                    [good]  \n",
              "1                    [best]  \n",
              "2  [disini, banyak, diskon]  \n",
              "3       [sangat, memuaskan]  \n",
              "4                   [keren]  "
            ]
          },
          "execution_count": 102,
          "metadata": {},
          "output_type": "execute_result"
        }
      ],
      "source": [
        "df[\"tokenize\"] = df[\"case_folding\"].apply(tokenize)\n",
        "df.head(5)"
      ]
    },
    {
      "cell_type": "markdown",
      "metadata": {
        "id": "HS1k-WhcJSio"
      },
      "source": [
        "## Normalization"
      ]
    },
    {
      "cell_type": "code",
      "execution_count": null,
      "metadata": {
        "id": "4EvGpa_cJSip"
      },
      "outputs": [],
      "source": [
        "'''import shutil\n",
        "!pip install kaggle\n",
        "\n",
        "\n",
        "!kaggle datasets download -d fornigulo/kamus-slag\n",
        "\n",
        "!unzip kamus-slag.zip -d kamus_slag\n",
        "\n",
        "shutil.move('kamus_slag', '/content/drive/MyDrive/TA/File/kamus_slag')\n",
        "#shutil.move('kamus-slag.zip', '/content/drive/MyDrive/TA/File/kamus-slag.zip')'''"
      ]
    },
    {
      "cell_type": "code",
      "execution_count": 19,
      "metadata": {
        "id": "QKYReZASFKPd"
      },
      "outputs": [],
      "source": [
        "data_kamus = pd.read_excel('./data/kamuskatabaku.xlsx')\n",
        "\n",
        "def normalisasi(text, kamus):\n",
        "    kalimat_final = []\n",
        "    for kata in text:\n",
        "        kata_benar = kamus[kamus['tidak_baku'] == kata]['kata_baku'].values\n",
        "        if len(kata_benar) > 0:\n",
        "            kalimat_final.append(kata_benar[0])\n",
        "        else:\n",
        "            kalimat_final.append(kata)\n",
        "    return kalimat_final"
      ]
    },
    {
      "cell_type": "code",
      "execution_count": 103,
      "metadata": {
        "colab": {
          "base_uri": "https://localhost:8080/",
          "height": 258
        },
        "id": "E2tmLKHCJSiq",
        "outputId": "5d213333-7ee4-4abd-9346-43902575439b"
      },
      "outputs": [
        {
          "data": {
            "text/html": [
              "<div>\n",
              "<style scoped>\n",
              "    .dataframe tbody tr th:only-of-type {\n",
              "        vertical-align: middle;\n",
              "    }\n",
              "\n",
              "    .dataframe tbody tr th {\n",
              "        vertical-align: top;\n",
              "    }\n",
              "\n",
              "    .dataframe thead th {\n",
              "        text-align: right;\n",
              "    }\n",
              "</style>\n",
              "<table border=\"1\" class=\"dataframe\">\n",
              "  <thead>\n",
              "    <tr style=\"text-align: right;\">\n",
              "      <th></th>\n",
              "      <th>Review Text</th>\n",
              "      <th>cleaning</th>\n",
              "      <th>case_folding</th>\n",
              "      <th>tokenize</th>\n",
              "      <th>normalize</th>\n",
              "    </tr>\n",
              "  </thead>\n",
              "  <tbody>\n",
              "    <tr>\n",
              "      <th>0</th>\n",
              "      <td>good</td>\n",
              "      <td>good</td>\n",
              "      <td>good</td>\n",
              "      <td>[good]</td>\n",
              "      <td>[good]</td>\n",
              "    </tr>\n",
              "    <tr>\n",
              "      <th>1</th>\n",
              "      <td>best</td>\n",
              "      <td>best</td>\n",
              "      <td>best</td>\n",
              "      <td>[best]</td>\n",
              "      <td>[best]</td>\n",
              "    </tr>\n",
              "    <tr>\n",
              "      <th>2</th>\n",
              "      <td>disini banyak diskon</td>\n",
              "      <td>disini banyak diskon</td>\n",
              "      <td>disini banyak diskon</td>\n",
              "      <td>[disini, banyak, diskon]</td>\n",
              "      <td>[disini, banyak, diskon]</td>\n",
              "    </tr>\n",
              "    <tr>\n",
              "      <th>3</th>\n",
              "      <td>Sangat memuaskan</td>\n",
              "      <td>Sangat memuaskan</td>\n",
              "      <td>sangat memuaskan</td>\n",
              "      <td>[sangat, memuaskan]</td>\n",
              "      <td>[sangat, memuaskan]</td>\n",
              "    </tr>\n",
              "    <tr>\n",
              "      <th>4</th>\n",
              "      <td>keren</td>\n",
              "      <td>keren</td>\n",
              "      <td>keren</td>\n",
              "      <td>[keren]</td>\n",
              "      <td>[keren]</td>\n",
              "    </tr>\n",
              "  </tbody>\n",
              "</table>\n",
              "</div>"
            ],
            "text/plain": [
              "            Review Text              cleaning          case_folding  \\\n",
              "0                  good                  good                  good   \n",
              "1                  best                  best                  best   \n",
              "2  disini banyak diskon  disini banyak diskon  disini banyak diskon   \n",
              "3      Sangat memuaskan      Sangat memuaskan      sangat memuaskan   \n",
              "4                 keren                 keren                 keren   \n",
              "\n",
              "                   tokenize                 normalize  \n",
              "0                    [good]                    [good]  \n",
              "1                    [best]                    [best]  \n",
              "2  [disini, banyak, diskon]  [disini, banyak, diskon]  \n",
              "3       [sangat, memuaskan]       [sangat, memuaskan]  \n",
              "4                   [keren]                   [keren]  "
            ]
          },
          "execution_count": 103,
          "metadata": {},
          "output_type": "execute_result"
        }
      ],
      "source": [
        "df['normalize'] = df['tokenize'].apply(lambda x: normalisasi(x, data_kamus))\n",
        "df.head(5)"
      ]
    },
    {
      "cell_type": "markdown",
      "metadata": {
        "id": "vzUsUrDgGH9-"
      },
      "source": [
        "## Negation Handling"
      ]
    },
    {
      "cell_type": "code",
      "execution_count": null,
      "metadata": {
        "id": "rLncGN6pFHQR"
      },
      "outputs": [],
      "source": [
        "import re\n",
        "import pandas as pd\n",
        "\n",
        "def negation_handling(text_tokens):\n",
        "    text = ' '.join(text_tokens)\n",
        "    text = re.sub(r'\\b(tidak|bukan|jangan|belum|tanpa|gak|ga|enggak|tak|kurang)\\s+(\\w+)', r'tidak_\\2', text)\n",
        "    tokens = text.split()\n",
        "    return tokens"
      ]
    },
    {
      "cell_type": "code",
      "execution_count": null,
      "metadata": {
        "colab": {
          "base_uri": "https://localhost:8080/",
          "height": 258
        },
        "id": "Ly6x5C3ZGNOt",
        "outputId": "49e449d3-dd1d-4da0-cf06-000f7aa818b9"
      },
      "outputs": [
        {
          "data": {
            "text/html": [
              "<div>\n",
              "<style scoped>\n",
              "    .dataframe tbody tr th:only-of-type {\n",
              "        vertical-align: middle;\n",
              "    }\n",
              "\n",
              "    .dataframe tbody tr th {\n",
              "        vertical-align: top;\n",
              "    }\n",
              "\n",
              "    .dataframe thead th {\n",
              "        text-align: right;\n",
              "    }\n",
              "</style>\n",
              "<table border=\"1\" class=\"dataframe\">\n",
              "  <thead>\n",
              "    <tr style=\"text-align: right;\">\n",
              "      <th></th>\n",
              "      <th>Review Text</th>\n",
              "      <th>cleaning</th>\n",
              "      <th>case_folding</th>\n",
              "      <th>tokenize</th>\n",
              "      <th>normalize</th>\n",
              "      <th>negation</th>\n",
              "    </tr>\n",
              "  </thead>\n",
              "  <tbody>\n",
              "    <tr>\n",
              "      <th>0</th>\n",
              "      <td>good</td>\n",
              "      <td>good</td>\n",
              "      <td>good</td>\n",
              "      <td>[good]</td>\n",
              "      <td>[good]</td>\n",
              "      <td>[good]</td>\n",
              "    </tr>\n",
              "    <tr>\n",
              "      <th>1</th>\n",
              "      <td>best</td>\n",
              "      <td>best</td>\n",
              "      <td>best</td>\n",
              "      <td>[best]</td>\n",
              "      <td>[best]</td>\n",
              "      <td>[best]</td>\n",
              "    </tr>\n",
              "    <tr>\n",
              "      <th>2</th>\n",
              "      <td>disini banyak diskon</td>\n",
              "      <td>disini banyak diskon</td>\n",
              "      <td>disini banyak diskon</td>\n",
              "      <td>[disini, banyak, diskon]</td>\n",
              "      <td>[disini, banyak, diskon]</td>\n",
              "      <td>[disini, banyak, diskon]</td>\n",
              "    </tr>\n",
              "    <tr>\n",
              "      <th>3</th>\n",
              "      <td>Sangat memuaskan</td>\n",
              "      <td>Sangat memuaskan</td>\n",
              "      <td>sangat memuaskan</td>\n",
              "      <td>[sangat, memuaskan]</td>\n",
              "      <td>[sangat, memuaskan]</td>\n",
              "      <td>[sangat, memuaskan]</td>\n",
              "    </tr>\n",
              "    <tr>\n",
              "      <th>4</th>\n",
              "      <td>keren</td>\n",
              "      <td>keren</td>\n",
              "      <td>keren</td>\n",
              "      <td>[keren]</td>\n",
              "      <td>[keren]</td>\n",
              "      <td>[keren]</td>\n",
              "    </tr>\n",
              "  </tbody>\n",
              "</table>\n",
              "</div>"
            ],
            "text/plain": [
              "            Review Text              cleaning          case_folding  \\\n",
              "0                  good                  good                  good   \n",
              "1                  best                  best                  best   \n",
              "2  disini banyak diskon  disini banyak diskon  disini banyak diskon   \n",
              "3      Sangat memuaskan      Sangat memuaskan      sangat memuaskan   \n",
              "4                 keren                 keren                 keren   \n",
              "\n",
              "                   tokenize                 normalize  \\\n",
              "0                    [good]                    [good]   \n",
              "1                    [best]                    [best]   \n",
              "2  [disini, banyak, diskon]  [disini, banyak, diskon]   \n",
              "3       [sangat, memuaskan]       [sangat, memuaskan]   \n",
              "4                   [keren]                   [keren]   \n",
              "\n",
              "                   negation  \n",
              "0                    [good]  \n",
              "1                    [best]  \n",
              "2  [disini, banyak, diskon]  \n",
              "3       [sangat, memuaskan]  \n",
              "4                   [keren]  "
            ]
          },
          "execution_count": 104,
          "metadata": {},
          "output_type": "execute_result"
        }
      ],
      "source": [
        "df[\"negation\"] = df[\"normalize\"].apply(negation_handling)\n",
        "df.head(5)"
      ]
    },
    {
      "cell_type": "markdown",
      "metadata": {
        "id": "lo1AmrH8PHLq"
      },
      "source": [
        "## Stopword Removal"
      ]
    },
    {
      "cell_type": "code",
      "execution_count": 21,
      "metadata": {
        "id": "XqeOymJ5EiDr"
      },
      "outputs": [],
      "source": [
        "stopwords_found_df = pd.read_csv('./data/stopwords_found.csv')\n",
        "stopwords_found = set(stopwords_found_df['stopword'].dropna().tolist())  # Konversi ke set\n",
        "\n",
        "# Ambil daftar stopword dari Sastrawi\n",
        "stop_words_factory = StopWordRemoverFactory()\n",
        "stop_words_sastrawi = set(stop_words_factory.get_stop_words())\n",
        "\n",
        "# Gabungkan semua stopword\n",
        "all_stopwords = stop_words_sastrawi.union(stopwords_found)\n",
        "\n",
        "# Perbarui StopWordRemover dengan daftar stopword yang digabungkan\n",
        "stop_words_factory = StopWordRemoverFactory()\n",
        "stop_words_factory.get_stop_words = lambda: list(all_stopwords)  # Override daftar stopword\n",
        "stopword_remover = stop_words_factory.create_stop_word_remover()\n",
        "\n",
        "def remove_stopwords(text):\n",
        "    if isinstance(text, list):\n",
        "        text = ' '.join(text)\n",
        "    cleaned_text = stopword_remover.remove(text)\n",
        "    cleaned_text = re.sub(r\"[^\\w\\s]\", \"\", cleaned_text)\n",
        "    tokens = cleaned_text.split()\n",
        "    return tokens"
      ]
    },
    {
      "cell_type": "code",
      "execution_count": 105,
      "metadata": {
        "colab": {
          "base_uri": "https://localhost:8080/",
          "height": 258
        },
        "id": "vvhPUjjVOYSP",
        "outputId": "05c695b7-de1d-4998-a3ea-6f26e0da0f82"
      },
      "outputs": [
        {
          "data": {
            "text/html": [
              "<div>\n",
              "<style scoped>\n",
              "    .dataframe tbody tr th:only-of-type {\n",
              "        vertical-align: middle;\n",
              "    }\n",
              "\n",
              "    .dataframe tbody tr th {\n",
              "        vertical-align: top;\n",
              "    }\n",
              "\n",
              "    .dataframe thead th {\n",
              "        text-align: right;\n",
              "    }\n",
              "</style>\n",
              "<table border=\"1\" class=\"dataframe\">\n",
              "  <thead>\n",
              "    <tr style=\"text-align: right;\">\n",
              "      <th></th>\n",
              "      <th>Review Text</th>\n",
              "      <th>cleaning</th>\n",
              "      <th>case_folding</th>\n",
              "      <th>tokenize</th>\n",
              "      <th>normalize</th>\n",
              "      <th>negation</th>\n",
              "      <th>stopword</th>\n",
              "    </tr>\n",
              "  </thead>\n",
              "  <tbody>\n",
              "    <tr>\n",
              "      <th>0</th>\n",
              "      <td>good</td>\n",
              "      <td>good</td>\n",
              "      <td>good</td>\n",
              "      <td>[good]</td>\n",
              "      <td>[good]</td>\n",
              "      <td>[good]</td>\n",
              "      <td>[good]</td>\n",
              "    </tr>\n",
              "    <tr>\n",
              "      <th>1</th>\n",
              "      <td>best</td>\n",
              "      <td>best</td>\n",
              "      <td>best</td>\n",
              "      <td>[best]</td>\n",
              "      <td>[best]</td>\n",
              "      <td>[best]</td>\n",
              "      <td>[best]</td>\n",
              "    </tr>\n",
              "    <tr>\n",
              "      <th>2</th>\n",
              "      <td>disini banyak diskon</td>\n",
              "      <td>disini banyak diskon</td>\n",
              "      <td>disini banyak diskon</td>\n",
              "      <td>[disini, banyak, diskon]</td>\n",
              "      <td>[disini, banyak, diskon]</td>\n",
              "      <td>[disini, banyak, diskon]</td>\n",
              "      <td>[disini, banyak, diskon]</td>\n",
              "    </tr>\n",
              "    <tr>\n",
              "      <th>3</th>\n",
              "      <td>Sangat memuaskan</td>\n",
              "      <td>Sangat memuaskan</td>\n",
              "      <td>sangat memuaskan</td>\n",
              "      <td>[sangat, memuaskan]</td>\n",
              "      <td>[sangat, memuaskan]</td>\n",
              "      <td>[sangat, memuaskan]</td>\n",
              "      <td>[sangat, memuaskan]</td>\n",
              "    </tr>\n",
              "    <tr>\n",
              "      <th>4</th>\n",
              "      <td>keren</td>\n",
              "      <td>keren</td>\n",
              "      <td>keren</td>\n",
              "      <td>[keren]</td>\n",
              "      <td>[keren]</td>\n",
              "      <td>[keren]</td>\n",
              "      <td>[keren]</td>\n",
              "    </tr>\n",
              "  </tbody>\n",
              "</table>\n",
              "</div>"
            ],
            "text/plain": [
              "            Review Text              cleaning          case_folding  \\\n",
              "0                  good                  good                  good   \n",
              "1                  best                  best                  best   \n",
              "2  disini banyak diskon  disini banyak diskon  disini banyak diskon   \n",
              "3      Sangat memuaskan      Sangat memuaskan      sangat memuaskan   \n",
              "4                 keren                 keren                 keren   \n",
              "\n",
              "                   tokenize                 normalize  \\\n",
              "0                    [good]                    [good]   \n",
              "1                    [best]                    [best]   \n",
              "2  [disini, banyak, diskon]  [disini, banyak, diskon]   \n",
              "3       [sangat, memuaskan]       [sangat, memuaskan]   \n",
              "4                   [keren]                   [keren]   \n",
              "\n",
              "                   negation                  stopword  \n",
              "0                    [good]                    [good]  \n",
              "1                    [best]                    [best]  \n",
              "2  [disini, banyak, diskon]  [disini, banyak, diskon]  \n",
              "3       [sangat, memuaskan]       [sangat, memuaskan]  \n",
              "4                   [keren]                   [keren]  "
            ]
          },
          "execution_count": 105,
          "metadata": {},
          "output_type": "execute_result"
        }
      ],
      "source": [
        "df['stopword'] = df['negation'].apply(remove_stopwords)\n",
        "df.head(5)"
      ]
    },
    {
      "cell_type": "markdown",
      "metadata": {
        "id": "uCEC6YJ5PMN5"
      },
      "source": [
        "## Stemming"
      ]
    },
    {
      "cell_type": "code",
      "execution_count": 22,
      "metadata": {
        "id": "JkN4JxrCEnGH"
      },
      "outputs": [],
      "source": [
        "from Sastrawi.Stemmer.StemmerFactory import StemmerFactory\n",
        "\n",
        "factory = StemmerFactory()\n",
        "stemmer = factory.create_stemmer()\n",
        "\n",
        "def stem_text(text):\n",
        "    if isinstance(text, list):\n",
        "        text = ' '.join(text)\n",
        "    return ' '.join([stemmer.stem(word) for word in text.split()])"
      ]
    },
    {
      "cell_type": "code",
      "execution_count": 106,
      "metadata": {
        "colab": {
          "base_uri": "https://localhost:8080/",
          "height": 276
        },
        "id": "-eST9DptiMuU",
        "outputId": "80c582a3-b81f-4120-c368-b3b63a29daba"
      },
      "outputs": [
        {
          "data": {
            "text/html": [
              "<div>\n",
              "<style scoped>\n",
              "    .dataframe tbody tr th:only-of-type {\n",
              "        vertical-align: middle;\n",
              "    }\n",
              "\n",
              "    .dataframe tbody tr th {\n",
              "        vertical-align: top;\n",
              "    }\n",
              "\n",
              "    .dataframe thead th {\n",
              "        text-align: right;\n",
              "    }\n",
              "</style>\n",
              "<table border=\"1\" class=\"dataframe\">\n",
              "  <thead>\n",
              "    <tr style=\"text-align: right;\">\n",
              "      <th></th>\n",
              "      <th>Review Text</th>\n",
              "      <th>cleaning</th>\n",
              "      <th>case_folding</th>\n",
              "      <th>tokenize</th>\n",
              "      <th>normalize</th>\n",
              "      <th>negation</th>\n",
              "      <th>stopword</th>\n",
              "      <th>stemming</th>\n",
              "    </tr>\n",
              "  </thead>\n",
              "  <tbody>\n",
              "    <tr>\n",
              "      <th>0</th>\n",
              "      <td>good</td>\n",
              "      <td>good</td>\n",
              "      <td>good</td>\n",
              "      <td>[good]</td>\n",
              "      <td>[good]</td>\n",
              "      <td>[good]</td>\n",
              "      <td>[good]</td>\n",
              "      <td>good</td>\n",
              "    </tr>\n",
              "    <tr>\n",
              "      <th>1</th>\n",
              "      <td>best</td>\n",
              "      <td>best</td>\n",
              "      <td>best</td>\n",
              "      <td>[best]</td>\n",
              "      <td>[best]</td>\n",
              "      <td>[best]</td>\n",
              "      <td>[best]</td>\n",
              "      <td>best</td>\n",
              "    </tr>\n",
              "    <tr>\n",
              "      <th>2</th>\n",
              "      <td>disini banyak diskon</td>\n",
              "      <td>disini banyak diskon</td>\n",
              "      <td>disini banyak diskon</td>\n",
              "      <td>[disini, banyak, diskon]</td>\n",
              "      <td>[disini, banyak, diskon]</td>\n",
              "      <td>[disini, banyak, diskon]</td>\n",
              "      <td>[disini, banyak, diskon]</td>\n",
              "      <td>sini banyak diskon</td>\n",
              "    </tr>\n",
              "    <tr>\n",
              "      <th>3</th>\n",
              "      <td>Sangat memuaskan</td>\n",
              "      <td>Sangat memuaskan</td>\n",
              "      <td>sangat memuaskan</td>\n",
              "      <td>[sangat, memuaskan]</td>\n",
              "      <td>[sangat, memuaskan]</td>\n",
              "      <td>[sangat, memuaskan]</td>\n",
              "      <td>[sangat, memuaskan]</td>\n",
              "      <td>sangat muas</td>\n",
              "    </tr>\n",
              "    <tr>\n",
              "      <th>4</th>\n",
              "      <td>keren</td>\n",
              "      <td>keren</td>\n",
              "      <td>keren</td>\n",
              "      <td>[keren]</td>\n",
              "      <td>[keren]</td>\n",
              "      <td>[keren]</td>\n",
              "      <td>[keren]</td>\n",
              "      <td>keren</td>\n",
              "    </tr>\n",
              "  </tbody>\n",
              "</table>\n",
              "</div>"
            ],
            "text/plain": [
              "            Review Text              cleaning          case_folding  \\\n",
              "0                  good                  good                  good   \n",
              "1                  best                  best                  best   \n",
              "2  disini banyak diskon  disini banyak diskon  disini banyak diskon   \n",
              "3      Sangat memuaskan      Sangat memuaskan      sangat memuaskan   \n",
              "4                 keren                 keren                 keren   \n",
              "\n",
              "                   tokenize                 normalize  \\\n",
              "0                    [good]                    [good]   \n",
              "1                    [best]                    [best]   \n",
              "2  [disini, banyak, diskon]  [disini, banyak, diskon]   \n",
              "3       [sangat, memuaskan]       [sangat, memuaskan]   \n",
              "4                   [keren]                   [keren]   \n",
              "\n",
              "                   negation                  stopword            stemming  \n",
              "0                    [good]                    [good]                good  \n",
              "1                    [best]                    [best]                best  \n",
              "2  [disini, banyak, diskon]  [disini, banyak, diskon]  sini banyak diskon  \n",
              "3       [sangat, memuaskan]       [sangat, memuaskan]         sangat muas  \n",
              "4                   [keren]                   [keren]               keren  "
            ]
          },
          "execution_count": 106,
          "metadata": {},
          "output_type": "execute_result"
        }
      ],
      "source": [
        "df['stemming'] = df['stopword'].apply(stem_text)\n",
        "df.head(5)"
      ]
    },
    {
      "cell_type": "code",
      "execution_count": 107,
      "metadata": {},
      "outputs": [],
      "source": [
        "df['stemming'] = df['stemming'].replace(\"\", pd.NA)\n",
        "df = df.dropna(subset=['stemming'])"
      ]
    },
    {
      "cell_type": "code",
      "execution_count": 108,
      "metadata": {
        "colab": {
          "base_uri": "https://localhost:8080/",
          "height": 366
        },
        "id": "IIpncu2yG7jj",
        "outputId": "5df0ed70-cc44-42c0-ccaf-30e11742d316"
      },
      "outputs": [
        {
          "data": {
            "text/plain": [
              "Review Text     0\n",
              "cleaning        0\n",
              "case_folding    0\n",
              "tokenize        0\n",
              "normalize       0\n",
              "negation        0\n",
              "stopword        0\n",
              "stemming        0\n",
              "dtype: int64"
            ]
          },
          "execution_count": 108,
          "metadata": {},
          "output_type": "execute_result"
        }
      ],
      "source": [
        "df.isna().sum()"
      ]
    },
    {
      "cell_type": "code",
      "execution_count": 109,
      "metadata": {},
      "outputs": [],
      "source": [
        "df = df.dropna()"
      ]
    },
    {
      "cell_type": "code",
      "execution_count": 110,
      "metadata": {
        "id": "JFf-ZjCh9UL6"
      },
      "outputs": [],
      "source": [
        "data = df\n",
        "\n",
        "df = pd.DataFrame(data)\n",
        "\n",
        "file_path = './data/hasilprepro_zalora.csv'\n",
        "\n",
        "# Simpan DataFrame ke dalam file CSV\n",
        "df.to_csv(file_path, index=False)"
      ]
    },
    {
      "cell_type": "markdown",
      "metadata": {
        "id": "DXXW2yWTPRNq"
      },
      "source": [
        "# Labelling"
      ]
    },
    {
      "cell_type": "code",
      "execution_count": 111,
      "metadata": {
        "id": "8XvkGFatvebW"
      },
      "outputs": [],
      "source": [
        "df = pd.read_csv('./data/hasilprepro_uniqlo.csv')"
      ]
    },
    {
      "cell_type": "markdown",
      "metadata": {
        "id": "1Mnf0_W5X-DB"
      },
      "source": [
        "## VADER"
      ]
    },
    {
      "cell_type": "code",
      "execution_count": 96,
      "metadata": {
        "colab": {
          "base_uri": "https://localhost:8080/"
        },
        "id": "De_5EgOLfQ82",
        "outputId": "46d170e4-4bdf-4c90-ec79-d852dd37ec4f"
      },
      "outputs": [
        {
          "name": "stdout",
          "output_type": "stream",
          "text": [
            "Requirement already satisfied: deep-translator in c:\\users\\hp\\appdata\\local\\programs\\python\\python38\\lib\\site-packages (1.11.4)"
          ]
        },
        {
          "name": "stderr",
          "output_type": "stream",
          "text": [
            "\n",
            "[notice] A new release of pip is available: 24.2 -> 25.0.1\n",
            "[notice] To update, run: python.exe -m pip install --upgrade pip\n"
          ]
        },
        {
          "name": "stdout",
          "output_type": "stream",
          "text": [
            "\n",
            "Requirement already satisfied: beautifulsoup4<5.0.0,>=4.9.1 in c:\\users\\hp\\appdata\\local\\programs\\python\\python38\\lib\\site-packages (from deep-translator) (4.13.3)\n",
            "Requirement already satisfied: requests<3.0.0,>=2.23.0 in c:\\users\\hp\\appdata\\local\\programs\\python\\python38\\lib\\site-packages (from deep-translator) (2.32.2)\n",
            "Requirement already satisfied: soupsieve>1.2 in c:\\users\\hp\\appdata\\local\\programs\\python\\python38\\lib\\site-packages (from beautifulsoup4<5.0.0,>=4.9.1->deep-translator) (2.6)\n",
            "Requirement already satisfied: typing-extensions>=4.0.0 in c:\\users\\hp\\appdata\\local\\programs\\python\\python38\\lib\\site-packages (from beautifulsoup4<5.0.0,>=4.9.1->deep-translator) (4.12.2)\n",
            "Requirement already satisfied: charset-normalizer<4,>=2 in c:\\users\\hp\\appdata\\local\\programs\\python\\python38\\lib\\site-packages (from requests<3.0.0,>=2.23.0->deep-translator) (3.3.2)\n",
            "Requirement already satisfied: idna<4,>=2.5 in c:\\users\\hp\\appdata\\local\\programs\\python\\python38\\lib\\site-packages (from requests<3.0.0,>=2.23.0->deep-translator) (3.7)\n",
            "Requirement already satisfied: urllib3<3,>=1.21.1 in c:\\users\\hp\\appdata\\local\\programs\\python\\python38\\lib\\site-packages (from requests<3.0.0,>=2.23.0->deep-translator) (2.2.1)\n",
            "Requirement already satisfied: certifi>=2017.4.17 in c:\\users\\hp\\appdata\\local\\programs\\python\\python38\\lib\\site-packages (from requests<3.0.0,>=2.23.0->deep-translator) (2024.2.2)\n"
          ]
        }
      ],
      "source": [
        "!pip install deep-translator"
      ]
    },
    {
      "cell_type": "code",
      "execution_count": null,
      "metadata": {
        "colab": {
          "base_uri": "https://localhost:8080/",
          "height": 293
        },
        "id": "9wiO5LJ3gAKA",
        "outputId": "39d62bc3-705c-4828-c5fe-a69b073c9125"
      },
      "outputs": [],
      "source": [
        "from deep_translator import GoogleTranslator\n",
        "\n",
        "def translate_to_english(text):\n",
        "    try:\n",
        "        if isinstance(text, str) and text.strip() != \"\":  # Pastikan teks bukan NaN atau kosong\n",
        "            translated_text = GoogleTranslator(source='auto', target='en').translate(text)\n",
        "            return translated_text\n",
        "        else:\n",
        "            return text\n",
        "    except Exception as e:\n",
        "        return text\n",
        "\n",
        "df[\"ENtranslated\"] = df[\"stemming\"].apply(translate_to_english)\n",
        "\n",
        "df.head(5)"
      ]
    },
    {
      "cell_type": "code",
      "execution_count": null,
      "metadata": {
        "colab": {
          "base_uri": "https://localhost:8080/"
        },
        "id": "-EfIOld1WQGD",
        "outputId": "7a4bd695-447a-4ad8-85a6-0857ba2c3502"
      },
      "outputs": [
        {
          "name": "stdout",
          "output_type": "stream",
          "text": [
            "Collecting vaderSentiment\n",
            "  Downloading vaderSentiment-3.3.2-py2.py3-none-any.whl.metadata (572 bytes)\n",
            "Requirement already satisfied: requests in /usr/local/lib/python3.11/dist-packages (from vaderSentiment) (2.32.3)\n",
            "Requirement already satisfied: charset-normalizer<4,>=2 in /usr/local/lib/python3.11/dist-packages (from requests->vaderSentiment) (3.4.1)\n",
            "Requirement already satisfied: idna<4,>=2.5 in /usr/local/lib/python3.11/dist-packages (from requests->vaderSentiment) (3.10)\n",
            "Requirement already satisfied: urllib3<3,>=1.21.1 in /usr/local/lib/python3.11/dist-packages (from requests->vaderSentiment) (2.3.0)\n",
            "Requirement already satisfied: certifi>=2017.4.17 in /usr/local/lib/python3.11/dist-packages (from requests->vaderSentiment) (2025.1.31)\n",
            "Downloading vaderSentiment-3.3.2-py2.py3-none-any.whl (125 kB)\n",
            "\u001b[?25l   \u001b[90m━━━━━━━━━━━━━━━━━━━━━━━━━━━━━━━━━━━━━━━━\u001b[0m \u001b[32m0.0/126.0 kB\u001b[0m \u001b[31m?\u001b[0m eta \u001b[36m-:--:--\u001b[0m\r\u001b[2K   \u001b[90m━━━━━━━━━━━━━━━━━━━━━━━━━━━━━━━━━━━━━━━━\u001b[0m \u001b[32m126.0/126.0 kB\u001b[0m \u001b[31m4.8 MB/s\u001b[0m eta \u001b[36m0:00:00\u001b[0m\n",
            "\u001b[?25hInstalling collected packages: vaderSentiment\n",
            "Successfully installed vaderSentiment-3.3.2\n"
          ]
        }
      ],
      "source": [
        "pip install vaderSentiment"
      ]
    },
    {
      "cell_type": "code",
      "execution_count": null,
      "metadata": {
        "colab": {
          "base_uri": "https://localhost:8080/"
        },
        "id": "zwDe-C6mhUNv",
        "outputId": "0992159f-5fc2-486a-8eba-2bf2a2b7381a"
      },
      "outputs": [
        {
          "name": "stderr",
          "output_type": "stream",
          "text": [
            "[nltk_data] Downloading package vader_lexicon to /root/nltk_data...\n"
          ]
        },
        {
          "name": "stdout",
          "output_type": "stream",
          "text": [
            "Jumlah sentimen positif: 932\n",
            "Jumlah sentimen netral: 619\n",
            "Jumlah sentimen negatif: 175\n",
            "Jumlah sentimen total: 1726\n"
          ]
        }
      ],
      "source": [
        "import nltk\n",
        "import pandas as pd\n",
        "from vaderSentiment.vaderSentiment import SentimentIntensityAnalyzer\n",
        "\n",
        "nltk.download('vader_lexicon')\n",
        "vader = SentimentIntensityAnalyzer()\n",
        "\n",
        "def label_with_vader(text):\n",
        "    if isinstance(text, str):\n",
        "        scores = vader.polarity_scores(text)\n",
        "        compound_score = scores['compound']\n",
        "        if compound_score >= 0.05:\n",
        "            sentiment = \"Positif\"\n",
        "        elif compound_score <= -0.05:\n",
        "            sentiment = \"Negatif\"\n",
        "        else:\n",
        "            sentiment = \"Netral\"\n",
        "        return compound_score, sentiment\n",
        "    return 0.0, \"Netral\"\n",
        "\n",
        "# Terapkan pelabelan otomatis\n",
        "df[[\"compound_score\", \"sentimen\"]] = df[\"ENtranslated\"].apply(lambda x: pd.Series(label_with_vader(x)))\n",
        "\n",
        "# Menghitung jumlah sentimen positif, netral, negatif, dan total\n",
        "jumlah_positif = df[df['sentimen'] == 'Positif'].shape[0]\n",
        "jumlah_netral = df[df['sentimen'] == 'Netral'].shape[0]\n",
        "jumlah_negatif = df[df['sentimen'] == 'Negatif'].shape[0]\n",
        "jumlah_total = df.shape[0]\n",
        "\n",
        "# Menampilkan hasil\n",
        "print(f\"Jumlah sentimen positif: {jumlah_positif}\")\n",
        "print(f\"Jumlah sentimen netral: {jumlah_netral}\")\n",
        "print(f\"Jumlah sentimen negatif: {jumlah_negatif}\")\n",
        "print(f\"Jumlah sentimen total: {jumlah_total}\")"
      ]
    },
    {
      "cell_type": "markdown",
      "metadata": {
        "id": "tnwUi5CFYF_0"
      },
      "source": [
        "## After Labeling"
      ]
    },
    {
      "cell_type": "code",
      "execution_count": null,
      "metadata": {
        "colab": {
          "base_uri": "https://localhost:8080/",
          "height": 614
        },
        "id": "Mt_AVGLUu2l8",
        "outputId": "1f61d5fd-6fb7-4752-8b43-201915182320"
      },
      "outputs": [
        {
          "data": {
            "application/vnd.google.colaboratory.intrinsic+json": {
              "summary": "{\n  \"name\": \"df\",\n  \"rows\": 1726,\n  \"fields\": [\n    {\n      \"column\": \"Review Text\",\n      \"properties\": {\n        \"dtype\": \"string\",\n        \"num_unique_values\": 1726,\n        \"samples\": [\n          \"Ada ukuran yg di toko ga ada, tapi di online ada..\",\n          \"tes dulu.. kalo bagus kasih b5..\",\n          \"Apl apaan\"\n        ],\n        \"semantic_type\": \"\",\n        \"description\": \"\"\n      }\n    },\n    {\n      \"column\": \"cleaning\",\n      \"properties\": {\n        \"dtype\": \"string\",\n        \"num_unique_values\": 1652,\n        \"samples\": [\n          \"Qualitas bahan bagus model mengikuti perkembangan mode dan harga sesuai kualitas\",\n          \"Ketersediaan barang jadi satu nya faktor saya sulit berbelanja Tolong tambah jumlahnya\",\n          \"Mudah diakses mudah digunakan mudah melakukan transaksi\"\n        ],\n        \"semantic_type\": \"\",\n        \"description\": \"\"\n      }\n    },\n    {\n      \"column\": \"translated\",\n      \"properties\": {\n        \"dtype\": \"string\",\n        \"num_unique_values\": 1612,\n        \"samples\": [\n          \"Lag apk ny jelek\",\n          \"selalu puas dgn produknya\",\n          \"Smoga banyak disc belanja dsni krn barangnya emang bagus\"\n        ],\n        \"semantic_type\": \"\",\n        \"description\": \"\"\n      }\n    },\n    {\n      \"column\": \"case_folding\",\n      \"properties\": {\n        \"dtype\": \"string\",\n        \"num_unique_values\": 1567,\n        \"samples\": [\n          \"aplikasi kurang instan saat lagi di mall pilih click collect ternyata gak bisa langsung diambil di toko nunggu besok kelamaan karena ga setiap saat orang bisa ke toko\",\n          \"puas banget order via aplikasi uniqlo awalnya coba cod via kurir nija hari sudah nyampe packing keren banget pakai dus khusus uniqlo mantap deh apalagi cs nya ramah banget nomor resi di kirim melalui email moga sukses selalu\",\n          \"ini belum paham caranya aplikasi ini masih mau coba\"\n        ],\n        \"semantic_type\": \"\",\n        \"description\": \"\"\n      }\n    },\n    {\n      \"column\": \"tokenize\",\n      \"properties\": {\n        \"dtype\": \"string\",\n        \"num_unique_values\": 1568,\n        \"samples\": [\n          \"['mungkin', 'perubahan', 'penampilan', 'mobile', 'dan', 'destopnya', 'dikonsistenkan']\",\n          \"['jelek', 'ga', 'ada', 'grab', 'gosend', 'instan']\",\n          \"['baru', 'di', 'update', 'tapi', 'opsi', 'alterasi', 'celana', 'nya', 'nggak', 'bisa', 'mohon', 'diperbaiki']\"\n        ],\n        \"semantic_type\": \"\",\n        \"description\": \"\"\n      }\n    },\n    {\n      \"column\": \"normalize\",\n      \"properties\": {\n        \"dtype\": \"string\",\n        \"num_unique_values\": 1548,\n        \"samples\": [\n          \"['tolong', 'berikan', 'pebersihan', 'yang', 'baik']\",\n          \"['maju', 'terus']\",\n          \"['pelayan', 'ramah', 'bisa', 'tukar', 'item', 'pas', 'salah', 'beli', 'size', 'asalkan', 'masih', 'ada', 'struk', 'belanjaanya', 'tks']\"\n        ],\n        \"semantic_type\": \"\",\n        \"description\": \"\"\n      }\n    },\n    {\n      \"column\": \"negation\",\n      \"properties\": {\n        \"dtype\": \"string\",\n        \"num_unique_values\": 1548,\n        \"samples\": [\n          \"['tolong', 'berikan', 'pebersihan', 'yang', 'baik']\",\n          \"['maju', 'terus']\",\n          \"['pelayan', 'ramah', 'bisa', 'tukar', 'item', 'pas', 'salah', 'beli', 'size', 'asalkan', 'masih', 'ada', 'struk', 'belanjaanya', 'tks']\"\n        ],\n        \"semantic_type\": \"\",\n        \"description\": \"\"\n      }\n    },\n    {\n      \"column\": \"stopword\",\n      \"properties\": {\n        \"dtype\": \"string\",\n        \"num_unique_values\": 1530,\n        \"samples\": [\n          \"['mending', 'langsung', 'tokonya']\",\n          \"['adalah', 'teaoijb']\",\n          \"['membantu', 'banget', 'jadi', 'ketahuilah', 'stok', 'barang', 'akan', 'dibeli', 'tidak_bingung', 'pasar', 'di', 'sini', ',', 'pasti', 'pengiriman', 'kegelapan', 'domisile']\"\n        ],\n        \"semantic_type\": \"\",\n        \"description\": \"\"\n      }\n    },\n    {\n      \"column\": \"stemming\",\n      \"properties\": {\n        \"dtype\": \"string\",\n        \"num_unique_values\": 1510,\n        \"samples\": [\n          \"kwalitas produk cuma prosedur ambil belanja online store lama banget hampir menit tunggu cuma buat perifikasi ambil\",\n          \"oke semua pakai buat cowok ramah layan\",\n          \"beri informasi produk baru uniqlo produk sale\"\n        ],\n        \"semantic_type\": \"\",\n        \"description\": \"\"\n      }\n    },\n    {\n      \"column\": \"score\",\n      \"properties\": {\n        \"dtype\": \"number\",\n        \"std\": 7.642652805453991,\n        \"min\": -69.0,\n        \"max\": 20.0,\n        \"num_unique_values\": 63,\n        \"samples\": [\n          -30.0,\n          -69.0,\n          -1.0\n        ],\n        \"semantic_type\": \"\",\n        \"description\": \"\"\n      }\n    },\n    {\n      \"column\": \"sentimen\",\n      \"properties\": {\n        \"dtype\": \"category\",\n        \"num_unique_values\": 3,\n        \"samples\": [\n          \"Negatif\",\n          \"Positif\",\n          \"Netral\"\n        ],\n        \"semantic_type\": \"\",\n        \"description\": \"\"\n      }\n    }\n  ]\n}",
              "type": "dataframe",
              "variable_name": "df"
            },
            "text/html": [
              "\n",
              "  <div id=\"df-68b7591d-68eb-4416-b09f-cfc6c3dc8ddb\" class=\"colab-df-container\">\n",
              "    <div>\n",
              "<style scoped>\n",
              "    .dataframe tbody tr th:only-of-type {\n",
              "        vertical-align: middle;\n",
              "    }\n",
              "\n",
              "    .dataframe tbody tr th {\n",
              "        vertical-align: top;\n",
              "    }\n",
              "\n",
              "    .dataframe thead th {\n",
              "        text-align: right;\n",
              "    }\n",
              "</style>\n",
              "<table border=\"1\" class=\"dataframe\">\n",
              "  <thead>\n",
              "    <tr style=\"text-align: right;\">\n",
              "      <th></th>\n",
              "      <th>Review Text</th>\n",
              "      <th>cleaning</th>\n",
              "      <th>translated</th>\n",
              "      <th>case_folding</th>\n",
              "      <th>tokenize</th>\n",
              "      <th>normalize</th>\n",
              "      <th>negation</th>\n",
              "      <th>stopword</th>\n",
              "      <th>stemming</th>\n",
              "      <th>score</th>\n",
              "      <th>sentimen</th>\n",
              "    </tr>\n",
              "  </thead>\n",
              "  <tbody>\n",
              "    <tr>\n",
              "      <th>0</th>\n",
              "      <td>Kalau jadi member manfaatnya apa selama ini se...</td>\n",
              "      <td>Kalau jadi member manfaatnya apa selama ini se...</td>\n",
              "      <td>Kalau jadi member manfaatnya apa selama ini se...</td>\n",
              "      <td>kalau jadi member manfaatnya apa selama ini se...</td>\n",
              "      <td>['kalau', 'jadi', 'member', 'manfaatnya', 'apa...</td>\n",
              "      <td>['kalau', 'jadi', 'member', 'manfaatnya', 'apa...</td>\n",
              "      <td>['kalau', 'jadi', 'member', 'manfaatnya', 'apa...</td>\n",
              "      <td>['kalau', 'jadi', 'member', 'manfaatnya', 'apa...</td>\n",
              "      <td>kalau jadi member manfaat apa lama sepwrtinya ...</td>\n",
              "      <td>-1.0</td>\n",
              "      <td>Negatif</td>\n",
              "    </tr>\n",
              "    <tr>\n",
              "      <th>1</th>\n",
              "      <td>Saya sangat suka aplikasi ini</td>\n",
              "      <td>Saya sangat suka aplikasi ini</td>\n",
              "      <td>Saya sangat suka aplikasi ini</td>\n",
              "      <td>saya sangat suka aplikasi ini</td>\n",
              "      <td>['saya', 'sangat', 'suka', 'aplikasi', 'ini']</td>\n",
              "      <td>['saya', 'sangat', 'suka', 'aplikasi', 'ini']</td>\n",
              "      <td>['saya', 'sangat', 'suka', 'aplikasi', 'ini']</td>\n",
              "      <td>['sangat', 'suka', 'aplikasi']</td>\n",
              "      <td>sangat suka aplikasi</td>\n",
              "      <td>-4.0</td>\n",
              "      <td>Negatif</td>\n",
              "    </tr>\n",
              "    <tr>\n",
              "      <th>2</th>\n",
              "      <td>Saya selalu berlangganan di uniqlo.bahannya oke</td>\n",
              "      <td>Saya selalu berlangganan di uniqlo bahannya oke</td>\n",
              "      <td>Saya selalu berlangganan di uniqlo bahannya oke</td>\n",
              "      <td>saya selalu berlangganan di uniqlo bahannya oke</td>\n",
              "      <td>['saya', 'selalu', 'berlangganan', 'di', 'uniq...</td>\n",
              "      <td>['saya', 'selalu', 'berlangganan', 'di', 'uniq...</td>\n",
              "      <td>['saya', 'selalu', 'berlangganan', 'di', 'uniq...</td>\n",
              "      <td>['selalu', 'berlangganan', 'uniqlo', 'bahannya...</td>\n",
              "      <td>selalu langgan uniqlo bahan oke</td>\n",
              "      <td>1.0</td>\n",
              "      <td>Positif</td>\n",
              "    </tr>\n",
              "    <tr>\n",
              "      <th>3</th>\n",
              "      <td>terbaik</td>\n",
              "      <td>terbaik</td>\n",
              "      <td>bagus sekali</td>\n",
              "      <td>bagus sekali</td>\n",
              "      <td>['bagus', 'sekali']</td>\n",
              "      <td>['bagus', 'sekali']</td>\n",
              "      <td>['bagus', 'sekali']</td>\n",
              "      <td>['bagus', 'sekali']</td>\n",
              "      <td>bagus sekali</td>\n",
              "      <td>-3.0</td>\n",
              "      <td>Negatif</td>\n",
              "    </tr>\n",
              "    <tr>\n",
              "      <th>4</th>\n",
              "      <td>sangat nyaman dipakai baik bahan dan model nya</td>\n",
              "      <td>sangat nyaman dipakai baik bahan dan model nya</td>\n",
              "      <td>sangat nyaman dipakai baik bahan dan model nya</td>\n",
              "      <td>sangat nyaman dipakai baik bahan dan model nya</td>\n",
              "      <td>['sangat', 'nyaman', 'dipakai', 'baik', 'bahan...</td>\n",
              "      <td>['sangat', 'nyaman', 'dipakai', 'baik', 'bahan...</td>\n",
              "      <td>['sangat', 'nyaman', 'dipakai', 'baik', 'bahan...</td>\n",
              "      <td>['sangat', 'nyaman', 'dipakai', 'baik', 'bahan...</td>\n",
              "      <td>sangat nyaman pakai baik bahan model</td>\n",
              "      <td>4.0</td>\n",
              "      <td>Positif</td>\n",
              "    </tr>\n",
              "    <tr>\n",
              "      <th>...</th>\n",
              "      <td>...</td>\n",
              "      <td>...</td>\n",
              "      <td>...</td>\n",
              "      <td>...</td>\n",
              "      <td>...</td>\n",
              "      <td>...</td>\n",
              "      <td>...</td>\n",
              "      <td>...</td>\n",
              "      <td>...</td>\n",
              "      <td>...</td>\n",
              "      <td>...</td>\n",
              "    </tr>\n",
              "    <tr>\n",
              "      <th>1721</th>\n",
              "      <td>berbelanja lebih menyenangkan krna ada aplikas...</td>\n",
              "      <td>berbelanja lebih menyenangkan krna ada aplikas...</td>\n",
              "      <td>berbelanja lebih menyenangkan krna ada aplikas...</td>\n",
              "      <td>berbelanja lebih menyenangkan krna ada aplikas...</td>\n",
              "      <td>['berbelanja', 'lebih', 'menyenangkan', 'krna'...</td>\n",
              "      <td>['berbelanja', 'lebih', 'menyenangkan', 'karen...</td>\n",
              "      <td>['berbelanja', 'lebih', 'menyenangkan', 'karen...</td>\n",
              "      <td>['berbelanja', 'lebih', 'menyenangkan', 'ada',...</td>\n",
              "      <td>belanja lebih senang ada aplikasi jadi cek dul...</td>\n",
              "      <td>-2.0</td>\n",
              "      <td>Negatif</td>\n",
              "    </tr>\n",
              "    <tr>\n",
              "      <th>1722</th>\n",
              "      <td>Keren nih aplikasi</td>\n",
              "      <td>Keren nih aplikasi</td>\n",
              "      <td>Keren nih aplikasi</td>\n",
              "      <td>keren nih aplikasi</td>\n",
              "      <td>['keren', 'nih', 'aplikasi']</td>\n",
              "      <td>['keren', 'nih', 'aplikasi']</td>\n",
              "      <td>['keren', 'nih', 'aplikasi']</td>\n",
              "      <td>['keren', 'nih', 'aplikasi']</td>\n",
              "      <td>keren nih aplikasi</td>\n",
              "      <td>-4.0</td>\n",
              "      <td>Negatif</td>\n",
              "    </tr>\n",
              "    <tr>\n",
              "      <th>1723</th>\n",
              "      <td>Have a good day at work</td>\n",
              "      <td>Have a good day at work</td>\n",
              "      <td>Semoga harimu menyenangkan di tempat kerja</td>\n",
              "      <td>semoga harimu menyenangkan di tempat kerja</td>\n",
              "      <td>['semoga', 'harimu', 'menyenangkan', 'di', 'te...</td>\n",
              "      <td>['semoga', 'harimu', 'menyenangkan', 'di', 'te...</td>\n",
              "      <td>['semoga', 'harimu', 'menyenangkan', 'di', 'te...</td>\n",
              "      <td>['semoga', 'harimu', 'menyenangkan', 'tempat',...</td>\n",
              "      <td>moga hari senang tempat kerja</td>\n",
              "      <td>1.0</td>\n",
              "      <td>Positif</td>\n",
              "    </tr>\n",
              "    <tr>\n",
              "      <th>1724</th>\n",
              "      <td>Sangat membantu dengan adanya aplikasi ni</td>\n",
              "      <td>Sangat membantu dengan adanya aplikasi ni</td>\n",
              "      <td>Sangat membantu dengan kehadiran aplikasi ini</td>\n",
              "      <td>sangat membantu dengan kehadiran aplikasi ini</td>\n",
              "      <td>['sangat', 'membantu', 'dengan', 'kehadiran', ...</td>\n",
              "      <td>['sangat', 'membantu', 'dengan', 'kehadiran', ...</td>\n",
              "      <td>['sangat', 'membantu', 'dengan', 'kehadiran', ...</td>\n",
              "      <td>['sangat', 'membantu', 'kehadiran', 'aplikasi']</td>\n",
              "      <td>sangat bantu hadir aplikasi</td>\n",
              "      <td>-8.0</td>\n",
              "      <td>Negatif</td>\n",
              "    </tr>\n",
              "    <tr>\n",
              "      <th>1725</th>\n",
              "      <td>Akhirnya muncul aplikasinya</td>\n",
              "      <td>Akhirnya muncul aplikasinya</td>\n",
              "      <td>Akhirnya muncul aplikasinya</td>\n",
              "      <td>akhirnya muncul aplikasinya</td>\n",
              "      <td>['akhirnya', 'muncul', 'aplikasinya']</td>\n",
              "      <td>['akhirnya', 'muncul', 'aplikasinya']</td>\n",
              "      <td>['akhirnya', 'muncul', 'aplikasinya']</td>\n",
              "      <td>['akhirnya', 'muncul', 'aplikasinya']</td>\n",
              "      <td>akhir muncul aplikasi</td>\n",
              "      <td>-6.0</td>\n",
              "      <td>Negatif</td>\n",
              "    </tr>\n",
              "  </tbody>\n",
              "</table>\n",
              "<p>1726 rows × 11 columns</p>\n",
              "</div>\n",
              "    <div class=\"colab-df-buttons\">\n",
              "\n",
              "  <div class=\"colab-df-container\">\n",
              "    <button class=\"colab-df-convert\" onclick=\"convertToInteractive('df-68b7591d-68eb-4416-b09f-cfc6c3dc8ddb')\"\n",
              "            title=\"Convert this dataframe to an interactive table.\"\n",
              "            style=\"display:none;\">\n",
              "\n",
              "  <svg xmlns=\"http://www.w3.org/2000/svg\" height=\"24px\" viewBox=\"0 -960 960 960\">\n",
              "    <path d=\"M120-120v-720h720v720H120Zm60-500h600v-160H180v160Zm220 220h160v-160H400v160Zm0 220h160v-160H400v160ZM180-400h160v-160H180v160Zm440 0h160v-160H620v160ZM180-180h160v-160H180v160Zm440 0h160v-160H620v160Z\"/>\n",
              "  </svg>\n",
              "    </button>\n",
              "\n",
              "  <style>\n",
              "    .colab-df-container {\n",
              "      display:flex;\n",
              "      gap: 12px;\n",
              "    }\n",
              "\n",
              "    .colab-df-convert {\n",
              "      background-color: #E8F0FE;\n",
              "      border: none;\n",
              "      border-radius: 50%;\n",
              "      cursor: pointer;\n",
              "      display: none;\n",
              "      fill: #1967D2;\n",
              "      height: 32px;\n",
              "      padding: 0 0 0 0;\n",
              "      width: 32px;\n",
              "    }\n",
              "\n",
              "    .colab-df-convert:hover {\n",
              "      background-color: #E2EBFA;\n",
              "      box-shadow: 0px 1px 2px rgba(60, 64, 67, 0.3), 0px 1px 3px 1px rgba(60, 64, 67, 0.15);\n",
              "      fill: #174EA6;\n",
              "    }\n",
              "\n",
              "    .colab-df-buttons div {\n",
              "      margin-bottom: 4px;\n",
              "    }\n",
              "\n",
              "    [theme=dark] .colab-df-convert {\n",
              "      background-color: #3B4455;\n",
              "      fill: #D2E3FC;\n",
              "    }\n",
              "\n",
              "    [theme=dark] .colab-df-convert:hover {\n",
              "      background-color: #434B5C;\n",
              "      box-shadow: 0px 1px 3px 1px rgba(0, 0, 0, 0.15);\n",
              "      filter: drop-shadow(0px 1px 2px rgba(0, 0, 0, 0.3));\n",
              "      fill: #FFFFFF;\n",
              "    }\n",
              "  </style>\n",
              "\n",
              "    <script>\n",
              "      const buttonEl =\n",
              "        document.querySelector('#df-68b7591d-68eb-4416-b09f-cfc6c3dc8ddb button.colab-df-convert');\n",
              "      buttonEl.style.display =\n",
              "        google.colab.kernel.accessAllowed ? 'block' : 'none';\n",
              "\n",
              "      async function convertToInteractive(key) {\n",
              "        const element = document.querySelector('#df-68b7591d-68eb-4416-b09f-cfc6c3dc8ddb');\n",
              "        const dataTable =\n",
              "          await google.colab.kernel.invokeFunction('convertToInteractive',\n",
              "                                                    [key], {});\n",
              "        if (!dataTable) return;\n",
              "\n",
              "        const docLinkHtml = 'Like what you see? Visit the ' +\n",
              "          '<a target=\"_blank\" href=https://colab.research.google.com/notebooks/data_table.ipynb>data table notebook</a>'\n",
              "          + ' to learn more about interactive tables.';\n",
              "        element.innerHTML = '';\n",
              "        dataTable['output_type'] = 'display_data';\n",
              "        await google.colab.output.renderOutput(dataTable, element);\n",
              "        const docLink = document.createElement('div');\n",
              "        docLink.innerHTML = docLinkHtml;\n",
              "        element.appendChild(docLink);\n",
              "      }\n",
              "    </script>\n",
              "  </div>\n",
              "\n",
              "\n",
              "<div id=\"df-8188d2a3-ec58-47ef-ac83-2c8cf134b849\">\n",
              "  <button class=\"colab-df-quickchart\" onclick=\"quickchart('df-8188d2a3-ec58-47ef-ac83-2c8cf134b849')\"\n",
              "            title=\"Suggest charts\"\n",
              "            style=\"display:none;\">\n",
              "\n",
              "<svg xmlns=\"http://www.w3.org/2000/svg\" height=\"24px\"viewBox=\"0 0 24 24\"\n",
              "     width=\"24px\">\n",
              "    <g>\n",
              "        <path d=\"M19 3H5c-1.1 0-2 .9-2 2v14c0 1.1.9 2 2 2h14c1.1 0 2-.9 2-2V5c0-1.1-.9-2-2-2zM9 17H7v-7h2v7zm4 0h-2V7h2v10zm4 0h-2v-4h2v4z\"/>\n",
              "    </g>\n",
              "</svg>\n",
              "  </button>\n",
              "\n",
              "<style>\n",
              "  .colab-df-quickchart {\n",
              "      --bg-color: #E8F0FE;\n",
              "      --fill-color: #1967D2;\n",
              "      --hover-bg-color: #E2EBFA;\n",
              "      --hover-fill-color: #174EA6;\n",
              "      --disabled-fill-color: #AAA;\n",
              "      --disabled-bg-color: #DDD;\n",
              "  }\n",
              "\n",
              "  [theme=dark] .colab-df-quickchart {\n",
              "      --bg-color: #3B4455;\n",
              "      --fill-color: #D2E3FC;\n",
              "      --hover-bg-color: #434B5C;\n",
              "      --hover-fill-color: #FFFFFF;\n",
              "      --disabled-bg-color: #3B4455;\n",
              "      --disabled-fill-color: #666;\n",
              "  }\n",
              "\n",
              "  .colab-df-quickchart {\n",
              "    background-color: var(--bg-color);\n",
              "    border: none;\n",
              "    border-radius: 50%;\n",
              "    cursor: pointer;\n",
              "    display: none;\n",
              "    fill: var(--fill-color);\n",
              "    height: 32px;\n",
              "    padding: 0;\n",
              "    width: 32px;\n",
              "  }\n",
              "\n",
              "  .colab-df-quickchart:hover {\n",
              "    background-color: var(--hover-bg-color);\n",
              "    box-shadow: 0 1px 2px rgba(60, 64, 67, 0.3), 0 1px 3px 1px rgba(60, 64, 67, 0.15);\n",
              "    fill: var(--button-hover-fill-color);\n",
              "  }\n",
              "\n",
              "  .colab-df-quickchart-complete:disabled,\n",
              "  .colab-df-quickchart-complete:disabled:hover {\n",
              "    background-color: var(--disabled-bg-color);\n",
              "    fill: var(--disabled-fill-color);\n",
              "    box-shadow: none;\n",
              "  }\n",
              "\n",
              "  .colab-df-spinner {\n",
              "    border: 2px solid var(--fill-color);\n",
              "    border-color: transparent;\n",
              "    border-bottom-color: var(--fill-color);\n",
              "    animation:\n",
              "      spin 1s steps(1) infinite;\n",
              "  }\n",
              "\n",
              "  @keyframes spin {\n",
              "    0% {\n",
              "      border-color: transparent;\n",
              "      border-bottom-color: var(--fill-color);\n",
              "      border-left-color: var(--fill-color);\n",
              "    }\n",
              "    20% {\n",
              "      border-color: transparent;\n",
              "      border-left-color: var(--fill-color);\n",
              "      border-top-color: var(--fill-color);\n",
              "    }\n",
              "    30% {\n",
              "      border-color: transparent;\n",
              "      border-left-color: var(--fill-color);\n",
              "      border-top-color: var(--fill-color);\n",
              "      border-right-color: var(--fill-color);\n",
              "    }\n",
              "    40% {\n",
              "      border-color: transparent;\n",
              "      border-right-color: var(--fill-color);\n",
              "      border-top-color: var(--fill-color);\n",
              "    }\n",
              "    60% {\n",
              "      border-color: transparent;\n",
              "      border-right-color: var(--fill-color);\n",
              "    }\n",
              "    80% {\n",
              "      border-color: transparent;\n",
              "      border-right-color: var(--fill-color);\n",
              "      border-bottom-color: var(--fill-color);\n",
              "    }\n",
              "    90% {\n",
              "      border-color: transparent;\n",
              "      border-bottom-color: var(--fill-color);\n",
              "    }\n",
              "  }\n",
              "</style>\n",
              "\n",
              "  <script>\n",
              "    async function quickchart(key) {\n",
              "      const quickchartButtonEl =\n",
              "        document.querySelector('#' + key + ' button');\n",
              "      quickchartButtonEl.disabled = true;  // To prevent multiple clicks.\n",
              "      quickchartButtonEl.classList.add('colab-df-spinner');\n",
              "      try {\n",
              "        const charts = await google.colab.kernel.invokeFunction(\n",
              "            'suggestCharts', [key], {});\n",
              "      } catch (error) {\n",
              "        console.error('Error during call to suggestCharts:', error);\n",
              "      }\n",
              "      quickchartButtonEl.classList.remove('colab-df-spinner');\n",
              "      quickchartButtonEl.classList.add('colab-df-quickchart-complete');\n",
              "    }\n",
              "    (() => {\n",
              "      let quickchartButtonEl =\n",
              "        document.querySelector('#df-8188d2a3-ec58-47ef-ac83-2c8cf134b849 button');\n",
              "      quickchartButtonEl.style.display =\n",
              "        google.colab.kernel.accessAllowed ? 'block' : 'none';\n",
              "    })();\n",
              "  </script>\n",
              "</div>\n",
              "\n",
              "  <div id=\"id_cbd4c383-2a43-44bb-8e9b-86f3e43aac9e\">\n",
              "    <style>\n",
              "      .colab-df-generate {\n",
              "        background-color: #E8F0FE;\n",
              "        border: none;\n",
              "        border-radius: 50%;\n",
              "        cursor: pointer;\n",
              "        display: none;\n",
              "        fill: #1967D2;\n",
              "        height: 32px;\n",
              "        padding: 0 0 0 0;\n",
              "        width: 32px;\n",
              "      }\n",
              "\n",
              "      .colab-df-generate:hover {\n",
              "        background-color: #E2EBFA;\n",
              "        box-shadow: 0px 1px 2px rgba(60, 64, 67, 0.3), 0px 1px 3px 1px rgba(60, 64, 67, 0.15);\n",
              "        fill: #174EA6;\n",
              "      }\n",
              "\n",
              "      [theme=dark] .colab-df-generate {\n",
              "        background-color: #3B4455;\n",
              "        fill: #D2E3FC;\n",
              "      }\n",
              "\n",
              "      [theme=dark] .colab-df-generate:hover {\n",
              "        background-color: #434B5C;\n",
              "        box-shadow: 0px 1px 3px 1px rgba(0, 0, 0, 0.15);\n",
              "        filter: drop-shadow(0px 1px 2px rgba(0, 0, 0, 0.3));\n",
              "        fill: #FFFFFF;\n",
              "      }\n",
              "    </style>\n",
              "    <button class=\"colab-df-generate\" onclick=\"generateWithVariable('df')\"\n",
              "            title=\"Generate code using this dataframe.\"\n",
              "            style=\"display:none;\">\n",
              "\n",
              "  <svg xmlns=\"http://www.w3.org/2000/svg\" height=\"24px\"viewBox=\"0 0 24 24\"\n",
              "       width=\"24px\">\n",
              "    <path d=\"M7,19H8.4L18.45,9,17,7.55,7,17.6ZM5,21V16.75L18.45,3.32a2,2,0,0,1,2.83,0l1.4,1.43a1.91,1.91,0,0,1,.58,1.4,1.91,1.91,0,0,1-.58,1.4L9.25,21ZM18.45,9,17,7.55Zm-12,3A5.31,5.31,0,0,0,4.9,8.1,5.31,5.31,0,0,0,1,6.5,5.31,5.31,0,0,0,4.9,4.9,5.31,5.31,0,0,0,6.5,1,5.31,5.31,0,0,0,8.1,4.9,5.31,5.31,0,0,0,12,6.5,5.46,5.46,0,0,0,6.5,12Z\"/>\n",
              "  </svg>\n",
              "    </button>\n",
              "    <script>\n",
              "      (() => {\n",
              "      const buttonEl =\n",
              "        document.querySelector('#id_cbd4c383-2a43-44bb-8e9b-86f3e43aac9e button.colab-df-generate');\n",
              "      buttonEl.style.display =\n",
              "        google.colab.kernel.accessAllowed ? 'block' : 'none';\n",
              "\n",
              "      buttonEl.onclick = () => {\n",
              "        google.colab.notebook.generateWithVariable('df');\n",
              "      }\n",
              "      })();\n",
              "    </script>\n",
              "  </div>\n",
              "\n",
              "    </div>\n",
              "  </div>\n"
            ],
            "text/plain": [
              "                                            Review Text  \\\n",
              "0     Kalau jadi member manfaatnya apa selama ini se...   \n",
              "1                         Saya sangat suka aplikasi ini   \n",
              "2       Saya selalu berlangganan di uniqlo.bahannya oke   \n",
              "3                                               terbaik   \n",
              "4        sangat nyaman dipakai baik bahan dan model nya   \n",
              "...                                                 ...   \n",
              "1721  berbelanja lebih menyenangkan krna ada aplikas...   \n",
              "1722                                 Keren nih aplikasi   \n",
              "1723                            Have a good day at work   \n",
              "1724          Sangat membantu dengan adanya aplikasi ni   \n",
              "1725                        Akhirnya muncul aplikasinya   \n",
              "\n",
              "                                               cleaning  \\\n",
              "0     Kalau jadi member manfaatnya apa selama ini se...   \n",
              "1                         Saya sangat suka aplikasi ini   \n",
              "2       Saya selalu berlangganan di uniqlo bahannya oke   \n",
              "3                                               terbaik   \n",
              "4        sangat nyaman dipakai baik bahan dan model nya   \n",
              "...                                                 ...   \n",
              "1721  berbelanja lebih menyenangkan krna ada aplikas...   \n",
              "1722                                 Keren nih aplikasi   \n",
              "1723                            Have a good day at work   \n",
              "1724          Sangat membantu dengan adanya aplikasi ni   \n",
              "1725                        Akhirnya muncul aplikasinya   \n",
              "\n",
              "                                             translated  \\\n",
              "0     Kalau jadi member manfaatnya apa selama ini se...   \n",
              "1                         Saya sangat suka aplikasi ini   \n",
              "2       Saya selalu berlangganan di uniqlo bahannya oke   \n",
              "3                                          bagus sekali   \n",
              "4        sangat nyaman dipakai baik bahan dan model nya   \n",
              "...                                                 ...   \n",
              "1721  berbelanja lebih menyenangkan krna ada aplikas...   \n",
              "1722                                 Keren nih aplikasi   \n",
              "1723         Semoga harimu menyenangkan di tempat kerja   \n",
              "1724      Sangat membantu dengan kehadiran aplikasi ini   \n",
              "1725                        Akhirnya muncul aplikasinya   \n",
              "\n",
              "                                           case_folding  \\\n",
              "0     kalau jadi member manfaatnya apa selama ini se...   \n",
              "1                         saya sangat suka aplikasi ini   \n",
              "2       saya selalu berlangganan di uniqlo bahannya oke   \n",
              "3                                          bagus sekali   \n",
              "4        sangat nyaman dipakai baik bahan dan model nya   \n",
              "...                                                 ...   \n",
              "1721  berbelanja lebih menyenangkan krna ada aplikas...   \n",
              "1722                                 keren nih aplikasi   \n",
              "1723         semoga harimu menyenangkan di tempat kerja   \n",
              "1724      sangat membantu dengan kehadiran aplikasi ini   \n",
              "1725                        akhirnya muncul aplikasinya   \n",
              "\n",
              "                                               tokenize  \\\n",
              "0     ['kalau', 'jadi', 'member', 'manfaatnya', 'apa...   \n",
              "1         ['saya', 'sangat', 'suka', 'aplikasi', 'ini']   \n",
              "2     ['saya', 'selalu', 'berlangganan', 'di', 'uniq...   \n",
              "3                                   ['bagus', 'sekali']   \n",
              "4     ['sangat', 'nyaman', 'dipakai', 'baik', 'bahan...   \n",
              "...                                                 ...   \n",
              "1721  ['berbelanja', 'lebih', 'menyenangkan', 'krna'...   \n",
              "1722                       ['keren', 'nih', 'aplikasi']   \n",
              "1723  ['semoga', 'harimu', 'menyenangkan', 'di', 'te...   \n",
              "1724  ['sangat', 'membantu', 'dengan', 'kehadiran', ...   \n",
              "1725              ['akhirnya', 'muncul', 'aplikasinya']   \n",
              "\n",
              "                                              normalize  \\\n",
              "0     ['kalau', 'jadi', 'member', 'manfaatnya', 'apa...   \n",
              "1         ['saya', 'sangat', 'suka', 'aplikasi', 'ini']   \n",
              "2     ['saya', 'selalu', 'berlangganan', 'di', 'uniq...   \n",
              "3                                   ['bagus', 'sekali']   \n",
              "4     ['sangat', 'nyaman', 'dipakai', 'baik', 'bahan...   \n",
              "...                                                 ...   \n",
              "1721  ['berbelanja', 'lebih', 'menyenangkan', 'karen...   \n",
              "1722                       ['keren', 'nih', 'aplikasi']   \n",
              "1723  ['semoga', 'harimu', 'menyenangkan', 'di', 'te...   \n",
              "1724  ['sangat', 'membantu', 'dengan', 'kehadiran', ...   \n",
              "1725              ['akhirnya', 'muncul', 'aplikasinya']   \n",
              "\n",
              "                                               negation  \\\n",
              "0     ['kalau', 'jadi', 'member', 'manfaatnya', 'apa...   \n",
              "1         ['saya', 'sangat', 'suka', 'aplikasi', 'ini']   \n",
              "2     ['saya', 'selalu', 'berlangganan', 'di', 'uniq...   \n",
              "3                                   ['bagus', 'sekali']   \n",
              "4     ['sangat', 'nyaman', 'dipakai', 'baik', 'bahan...   \n",
              "...                                                 ...   \n",
              "1721  ['berbelanja', 'lebih', 'menyenangkan', 'karen...   \n",
              "1722                       ['keren', 'nih', 'aplikasi']   \n",
              "1723  ['semoga', 'harimu', 'menyenangkan', 'di', 'te...   \n",
              "1724  ['sangat', 'membantu', 'dengan', 'kehadiran', ...   \n",
              "1725              ['akhirnya', 'muncul', 'aplikasinya']   \n",
              "\n",
              "                                               stopword  \\\n",
              "0     ['kalau', 'jadi', 'member', 'manfaatnya', 'apa...   \n",
              "1                        ['sangat', 'suka', 'aplikasi']   \n",
              "2     ['selalu', 'berlangganan', 'uniqlo', 'bahannya...   \n",
              "3                                   ['bagus', 'sekali']   \n",
              "4     ['sangat', 'nyaman', 'dipakai', 'baik', 'bahan...   \n",
              "...                                                 ...   \n",
              "1721  ['berbelanja', 'lebih', 'menyenangkan', 'ada',...   \n",
              "1722                       ['keren', 'nih', 'aplikasi']   \n",
              "1723  ['semoga', 'harimu', 'menyenangkan', 'tempat',...   \n",
              "1724    ['sangat', 'membantu', 'kehadiran', 'aplikasi']   \n",
              "1725              ['akhirnya', 'muncul', 'aplikasinya']   \n",
              "\n",
              "                                               stemming  score sentimen  \n",
              "0     kalau jadi member manfaat apa lama sepwrtinya ...   -1.0  Negatif  \n",
              "1                                  sangat suka aplikasi   -4.0  Negatif  \n",
              "2                       selalu langgan uniqlo bahan oke    1.0  Positif  \n",
              "3                                          bagus sekali   -3.0  Negatif  \n",
              "4                  sangat nyaman pakai baik bahan model    4.0  Positif  \n",
              "...                                                 ...    ...      ...  \n",
              "1721  belanja lebih senang ada aplikasi jadi cek dul...   -2.0  Negatif  \n",
              "1722                                 keren nih aplikasi   -4.0  Negatif  \n",
              "1723                      moga hari senang tempat kerja    1.0  Positif  \n",
              "1724                        sangat bantu hadir aplikasi   -8.0  Negatif  \n",
              "1725                              akhir muncul aplikasi   -6.0  Negatif  \n",
              "\n",
              "[1726 rows x 11 columns]"
            ]
          },
          "execution_count": 115,
          "metadata": {},
          "output_type": "execute_result"
        }
      ],
      "source": [
        "df"
      ]
    },
    {
      "cell_type": "code",
      "execution_count": null,
      "metadata": {
        "colab": {
          "base_uri": "https://localhost:8080/",
          "height": 423
        },
        "id": "QGxQNf3t94ef",
        "outputId": "93bffd42-0e14-494c-fc38-985ec73d87d2"
      },
      "outputs": [
        {
          "data": {
            "application/vnd.google.colaboratory.intrinsic+json": {
              "summary": "{\n  \"name\": \"df\",\n  \"rows\": 1726,\n  \"fields\": [\n    {\n      \"column\": \"stemming\",\n      \"properties\": {\n        \"dtype\": \"string\",\n        \"num_unique_values\": 1510,\n        \"samples\": [\n          \"kwalitas produk cuma prosedur ambil belanja online store lama banget hampir menit tunggu cuma buat perifikasi ambil\",\n          \"oke semua pakai buat cowok ramah layan\",\n          \"beri informasi produk baru uniqlo produk sale\"\n        ],\n        \"semantic_type\": \"\",\n        \"description\": \"\"\n      }\n    },\n    {\n      \"column\": \"score\",\n      \"properties\": {\n        \"dtype\": \"number\",\n        \"std\": 7.642652805453991,\n        \"min\": -69.0,\n        \"max\": 20.0,\n        \"num_unique_values\": 63,\n        \"samples\": [\n          -30.0,\n          -69.0,\n          -1.0\n        ],\n        \"semantic_type\": \"\",\n        \"description\": \"\"\n      }\n    },\n    {\n      \"column\": \"sentimen\",\n      \"properties\": {\n        \"dtype\": \"category\",\n        \"num_unique_values\": 3,\n        \"samples\": [\n          \"Negatif\",\n          \"Positif\",\n          \"Netral\"\n        ],\n        \"semantic_type\": \"\",\n        \"description\": \"\"\n      }\n    }\n  ]\n}",
              "type": "dataframe",
              "variable_name": "df"
            },
            "text/html": [
              "\n",
              "  <div id=\"df-18f8e086-0f7b-4f95-8e7d-be495d7aa973\" class=\"colab-df-container\">\n",
              "    <div>\n",
              "<style scoped>\n",
              "    .dataframe tbody tr th:only-of-type {\n",
              "        vertical-align: middle;\n",
              "    }\n",
              "\n",
              "    .dataframe tbody tr th {\n",
              "        vertical-align: top;\n",
              "    }\n",
              "\n",
              "    .dataframe thead th {\n",
              "        text-align: right;\n",
              "    }\n",
              "</style>\n",
              "<table border=\"1\" class=\"dataframe\">\n",
              "  <thead>\n",
              "    <tr style=\"text-align: right;\">\n",
              "      <th></th>\n",
              "      <th>stemming</th>\n",
              "      <th>score</th>\n",
              "      <th>sentimen</th>\n",
              "    </tr>\n",
              "  </thead>\n",
              "  <tbody>\n",
              "    <tr>\n",
              "      <th>0</th>\n",
              "      <td>kalau jadi member manfaat apa lama sepwrtinya ...</td>\n",
              "      <td>-1.0</td>\n",
              "      <td>Negatif</td>\n",
              "    </tr>\n",
              "    <tr>\n",
              "      <th>1</th>\n",
              "      <td>sangat suka aplikasi</td>\n",
              "      <td>-4.0</td>\n",
              "      <td>Negatif</td>\n",
              "    </tr>\n",
              "    <tr>\n",
              "      <th>2</th>\n",
              "      <td>selalu langgan uniqlo bahan oke</td>\n",
              "      <td>1.0</td>\n",
              "      <td>Positif</td>\n",
              "    </tr>\n",
              "    <tr>\n",
              "      <th>3</th>\n",
              "      <td>bagus sekali</td>\n",
              "      <td>-3.0</td>\n",
              "      <td>Negatif</td>\n",
              "    </tr>\n",
              "    <tr>\n",
              "      <th>4</th>\n",
              "      <td>sangat nyaman pakai baik bahan model</td>\n",
              "      <td>4.0</td>\n",
              "      <td>Positif</td>\n",
              "    </tr>\n",
              "    <tr>\n",
              "      <th>...</th>\n",
              "      <td>...</td>\n",
              "      <td>...</td>\n",
              "      <td>...</td>\n",
              "    </tr>\n",
              "    <tr>\n",
              "      <th>1721</th>\n",
              "      <td>belanja lebih senang ada aplikasi jadi cek dul...</td>\n",
              "      <td>-2.0</td>\n",
              "      <td>Negatif</td>\n",
              "    </tr>\n",
              "    <tr>\n",
              "      <th>1722</th>\n",
              "      <td>keren nih aplikasi</td>\n",
              "      <td>-4.0</td>\n",
              "      <td>Negatif</td>\n",
              "    </tr>\n",
              "    <tr>\n",
              "      <th>1723</th>\n",
              "      <td>moga hari senang tempat kerja</td>\n",
              "      <td>1.0</td>\n",
              "      <td>Positif</td>\n",
              "    </tr>\n",
              "    <tr>\n",
              "      <th>1724</th>\n",
              "      <td>sangat bantu hadir aplikasi</td>\n",
              "      <td>-8.0</td>\n",
              "      <td>Negatif</td>\n",
              "    </tr>\n",
              "    <tr>\n",
              "      <th>1725</th>\n",
              "      <td>akhir muncul aplikasi</td>\n",
              "      <td>-6.0</td>\n",
              "      <td>Negatif</td>\n",
              "    </tr>\n",
              "  </tbody>\n",
              "</table>\n",
              "<p>1726 rows × 3 columns</p>\n",
              "</div>\n",
              "    <div class=\"colab-df-buttons\">\n",
              "\n",
              "  <div class=\"colab-df-container\">\n",
              "    <button class=\"colab-df-convert\" onclick=\"convertToInteractive('df-18f8e086-0f7b-4f95-8e7d-be495d7aa973')\"\n",
              "            title=\"Convert this dataframe to an interactive table.\"\n",
              "            style=\"display:none;\">\n",
              "\n",
              "  <svg xmlns=\"http://www.w3.org/2000/svg\" height=\"24px\" viewBox=\"0 -960 960 960\">\n",
              "    <path d=\"M120-120v-720h720v720H120Zm60-500h600v-160H180v160Zm220 220h160v-160H400v160Zm0 220h160v-160H400v160ZM180-400h160v-160H180v160Zm440 0h160v-160H620v160ZM180-180h160v-160H180v160Zm440 0h160v-160H620v160Z\"/>\n",
              "  </svg>\n",
              "    </button>\n",
              "\n",
              "  <style>\n",
              "    .colab-df-container {\n",
              "      display:flex;\n",
              "      gap: 12px;\n",
              "    }\n",
              "\n",
              "    .colab-df-convert {\n",
              "      background-color: #E8F0FE;\n",
              "      border: none;\n",
              "      border-radius: 50%;\n",
              "      cursor: pointer;\n",
              "      display: none;\n",
              "      fill: #1967D2;\n",
              "      height: 32px;\n",
              "      padding: 0 0 0 0;\n",
              "      width: 32px;\n",
              "    }\n",
              "\n",
              "    .colab-df-convert:hover {\n",
              "      background-color: #E2EBFA;\n",
              "      box-shadow: 0px 1px 2px rgba(60, 64, 67, 0.3), 0px 1px 3px 1px rgba(60, 64, 67, 0.15);\n",
              "      fill: #174EA6;\n",
              "    }\n",
              "\n",
              "    .colab-df-buttons div {\n",
              "      margin-bottom: 4px;\n",
              "    }\n",
              "\n",
              "    [theme=dark] .colab-df-convert {\n",
              "      background-color: #3B4455;\n",
              "      fill: #D2E3FC;\n",
              "    }\n",
              "\n",
              "    [theme=dark] .colab-df-convert:hover {\n",
              "      background-color: #434B5C;\n",
              "      box-shadow: 0px 1px 3px 1px rgba(0, 0, 0, 0.15);\n",
              "      filter: drop-shadow(0px 1px 2px rgba(0, 0, 0, 0.3));\n",
              "      fill: #FFFFFF;\n",
              "    }\n",
              "  </style>\n",
              "\n",
              "    <script>\n",
              "      const buttonEl =\n",
              "        document.querySelector('#df-18f8e086-0f7b-4f95-8e7d-be495d7aa973 button.colab-df-convert');\n",
              "      buttonEl.style.display =\n",
              "        google.colab.kernel.accessAllowed ? 'block' : 'none';\n",
              "\n",
              "      async function convertToInteractive(key) {\n",
              "        const element = document.querySelector('#df-18f8e086-0f7b-4f95-8e7d-be495d7aa973');\n",
              "        const dataTable =\n",
              "          await google.colab.kernel.invokeFunction('convertToInteractive',\n",
              "                                                    [key], {});\n",
              "        if (!dataTable) return;\n",
              "\n",
              "        const docLinkHtml = 'Like what you see? Visit the ' +\n",
              "          '<a target=\"_blank\" href=https://colab.research.google.com/notebooks/data_table.ipynb>data table notebook</a>'\n",
              "          + ' to learn more about interactive tables.';\n",
              "        element.innerHTML = '';\n",
              "        dataTable['output_type'] = 'display_data';\n",
              "        await google.colab.output.renderOutput(dataTable, element);\n",
              "        const docLink = document.createElement('div');\n",
              "        docLink.innerHTML = docLinkHtml;\n",
              "        element.appendChild(docLink);\n",
              "      }\n",
              "    </script>\n",
              "  </div>\n",
              "\n",
              "\n",
              "<div id=\"df-259f0c1f-e733-40af-87e3-1a4a7f80468e\">\n",
              "  <button class=\"colab-df-quickchart\" onclick=\"quickchart('df-259f0c1f-e733-40af-87e3-1a4a7f80468e')\"\n",
              "            title=\"Suggest charts\"\n",
              "            style=\"display:none;\">\n",
              "\n",
              "<svg xmlns=\"http://www.w3.org/2000/svg\" height=\"24px\"viewBox=\"0 0 24 24\"\n",
              "     width=\"24px\">\n",
              "    <g>\n",
              "        <path d=\"M19 3H5c-1.1 0-2 .9-2 2v14c0 1.1.9 2 2 2h14c1.1 0 2-.9 2-2V5c0-1.1-.9-2-2-2zM9 17H7v-7h2v7zm4 0h-2V7h2v10zm4 0h-2v-4h2v4z\"/>\n",
              "    </g>\n",
              "</svg>\n",
              "  </button>\n",
              "\n",
              "<style>\n",
              "  .colab-df-quickchart {\n",
              "      --bg-color: #E8F0FE;\n",
              "      --fill-color: #1967D2;\n",
              "      --hover-bg-color: #E2EBFA;\n",
              "      --hover-fill-color: #174EA6;\n",
              "      --disabled-fill-color: #AAA;\n",
              "      --disabled-bg-color: #DDD;\n",
              "  }\n",
              "\n",
              "  [theme=dark] .colab-df-quickchart {\n",
              "      --bg-color: #3B4455;\n",
              "      --fill-color: #D2E3FC;\n",
              "      --hover-bg-color: #434B5C;\n",
              "      --hover-fill-color: #FFFFFF;\n",
              "      --disabled-bg-color: #3B4455;\n",
              "      --disabled-fill-color: #666;\n",
              "  }\n",
              "\n",
              "  .colab-df-quickchart {\n",
              "    background-color: var(--bg-color);\n",
              "    border: none;\n",
              "    border-radius: 50%;\n",
              "    cursor: pointer;\n",
              "    display: none;\n",
              "    fill: var(--fill-color);\n",
              "    height: 32px;\n",
              "    padding: 0;\n",
              "    width: 32px;\n",
              "  }\n",
              "\n",
              "  .colab-df-quickchart:hover {\n",
              "    background-color: var(--hover-bg-color);\n",
              "    box-shadow: 0 1px 2px rgba(60, 64, 67, 0.3), 0 1px 3px 1px rgba(60, 64, 67, 0.15);\n",
              "    fill: var(--button-hover-fill-color);\n",
              "  }\n",
              "\n",
              "  .colab-df-quickchart-complete:disabled,\n",
              "  .colab-df-quickchart-complete:disabled:hover {\n",
              "    background-color: var(--disabled-bg-color);\n",
              "    fill: var(--disabled-fill-color);\n",
              "    box-shadow: none;\n",
              "  }\n",
              "\n",
              "  .colab-df-spinner {\n",
              "    border: 2px solid var(--fill-color);\n",
              "    border-color: transparent;\n",
              "    border-bottom-color: var(--fill-color);\n",
              "    animation:\n",
              "      spin 1s steps(1) infinite;\n",
              "  }\n",
              "\n",
              "  @keyframes spin {\n",
              "    0% {\n",
              "      border-color: transparent;\n",
              "      border-bottom-color: var(--fill-color);\n",
              "      border-left-color: var(--fill-color);\n",
              "    }\n",
              "    20% {\n",
              "      border-color: transparent;\n",
              "      border-left-color: var(--fill-color);\n",
              "      border-top-color: var(--fill-color);\n",
              "    }\n",
              "    30% {\n",
              "      border-color: transparent;\n",
              "      border-left-color: var(--fill-color);\n",
              "      border-top-color: var(--fill-color);\n",
              "      border-right-color: var(--fill-color);\n",
              "    }\n",
              "    40% {\n",
              "      border-color: transparent;\n",
              "      border-right-color: var(--fill-color);\n",
              "      border-top-color: var(--fill-color);\n",
              "    }\n",
              "    60% {\n",
              "      border-color: transparent;\n",
              "      border-right-color: var(--fill-color);\n",
              "    }\n",
              "    80% {\n",
              "      border-color: transparent;\n",
              "      border-right-color: var(--fill-color);\n",
              "      border-bottom-color: var(--fill-color);\n",
              "    }\n",
              "    90% {\n",
              "      border-color: transparent;\n",
              "      border-bottom-color: var(--fill-color);\n",
              "    }\n",
              "  }\n",
              "</style>\n",
              "\n",
              "  <script>\n",
              "    async function quickchart(key) {\n",
              "      const quickchartButtonEl =\n",
              "        document.querySelector('#' + key + ' button');\n",
              "      quickchartButtonEl.disabled = true;  // To prevent multiple clicks.\n",
              "      quickchartButtonEl.classList.add('colab-df-spinner');\n",
              "      try {\n",
              "        const charts = await google.colab.kernel.invokeFunction(\n",
              "            'suggestCharts', [key], {});\n",
              "      } catch (error) {\n",
              "        console.error('Error during call to suggestCharts:', error);\n",
              "      }\n",
              "      quickchartButtonEl.classList.remove('colab-df-spinner');\n",
              "      quickchartButtonEl.classList.add('colab-df-quickchart-complete');\n",
              "    }\n",
              "    (() => {\n",
              "      let quickchartButtonEl =\n",
              "        document.querySelector('#df-259f0c1f-e733-40af-87e3-1a4a7f80468e button');\n",
              "      quickchartButtonEl.style.display =\n",
              "        google.colab.kernel.accessAllowed ? 'block' : 'none';\n",
              "    })();\n",
              "  </script>\n",
              "</div>\n",
              "\n",
              "  <div id=\"id_07530250-b255-492e-814b-a30e4f97e002\">\n",
              "    <style>\n",
              "      .colab-df-generate {\n",
              "        background-color: #E8F0FE;\n",
              "        border: none;\n",
              "        border-radius: 50%;\n",
              "        cursor: pointer;\n",
              "        display: none;\n",
              "        fill: #1967D2;\n",
              "        height: 32px;\n",
              "        padding: 0 0 0 0;\n",
              "        width: 32px;\n",
              "      }\n",
              "\n",
              "      .colab-df-generate:hover {\n",
              "        background-color: #E2EBFA;\n",
              "        box-shadow: 0px 1px 2px rgba(60, 64, 67, 0.3), 0px 1px 3px 1px rgba(60, 64, 67, 0.15);\n",
              "        fill: #174EA6;\n",
              "      }\n",
              "\n",
              "      [theme=dark] .colab-df-generate {\n",
              "        background-color: #3B4455;\n",
              "        fill: #D2E3FC;\n",
              "      }\n",
              "\n",
              "      [theme=dark] .colab-df-generate:hover {\n",
              "        background-color: #434B5C;\n",
              "        box-shadow: 0px 1px 3px 1px rgba(0, 0, 0, 0.15);\n",
              "        filter: drop-shadow(0px 1px 2px rgba(0, 0, 0, 0.3));\n",
              "        fill: #FFFFFF;\n",
              "      }\n",
              "    </style>\n",
              "    <button class=\"colab-df-generate\" onclick=\"generateWithVariable('df')\"\n",
              "            title=\"Generate code using this dataframe.\"\n",
              "            style=\"display:none;\">\n",
              "\n",
              "  <svg xmlns=\"http://www.w3.org/2000/svg\" height=\"24px\"viewBox=\"0 0 24 24\"\n",
              "       width=\"24px\">\n",
              "    <path d=\"M7,19H8.4L18.45,9,17,7.55,7,17.6ZM5,21V16.75L18.45,3.32a2,2,0,0,1,2.83,0l1.4,1.43a1.91,1.91,0,0,1,.58,1.4,1.91,1.91,0,0,1-.58,1.4L9.25,21ZM18.45,9,17,7.55Zm-12,3A5.31,5.31,0,0,0,4.9,8.1,5.31,5.31,0,0,0,1,6.5,5.31,5.31,0,0,0,4.9,4.9,5.31,5.31,0,0,0,6.5,1,5.31,5.31,0,0,0,8.1,4.9,5.31,5.31,0,0,0,12,6.5,5.46,5.46,0,0,0,6.5,12Z\"/>\n",
              "  </svg>\n",
              "    </button>\n",
              "    <script>\n",
              "      (() => {\n",
              "      const buttonEl =\n",
              "        document.querySelector('#id_07530250-b255-492e-814b-a30e4f97e002 button.colab-df-generate');\n",
              "      buttonEl.style.display =\n",
              "        google.colab.kernel.accessAllowed ? 'block' : 'none';\n",
              "\n",
              "      buttonEl.onclick = () => {\n",
              "        google.colab.notebook.generateWithVariable('df');\n",
              "      }\n",
              "      })();\n",
              "    </script>\n",
              "  </div>\n",
              "\n",
              "    </div>\n",
              "  </div>\n"
            ],
            "text/plain": [
              "                                               stemming  score sentimen\n",
              "0     kalau jadi member manfaat apa lama sepwrtinya ...   -1.0  Negatif\n",
              "1                                  sangat suka aplikasi   -4.0  Negatif\n",
              "2                       selalu langgan uniqlo bahan oke    1.0  Positif\n",
              "3                                          bagus sekali   -3.0  Negatif\n",
              "4                  sangat nyaman pakai baik bahan model    4.0  Positif\n",
              "...                                                 ...    ...      ...\n",
              "1721  belanja lebih senang ada aplikasi jadi cek dul...   -2.0  Negatif\n",
              "1722                                 keren nih aplikasi   -4.0  Negatif\n",
              "1723                      moga hari senang tempat kerja    1.0  Positif\n",
              "1724                        sangat bantu hadir aplikasi   -8.0  Negatif\n",
              "1725                              akhir muncul aplikasi   -6.0  Negatif\n",
              "\n",
              "[1726 rows x 3 columns]"
            ]
          },
          "execution_count": 116,
          "metadata": {},
          "output_type": "execute_result"
        }
      ],
      "source": [
        "df = df.drop(['Review Text', 'cleaning', 'translated', 'case_folding', 'tokenize', 'normalize', 'negation', 'stopword'], axis=1)\n",
        "df"
      ]
    },
    {
      "cell_type": "code",
      "execution_count": null,
      "metadata": {
        "colab": {
          "base_uri": "https://localhost:8080/"
        },
        "id": "8y-CyefhxZYT",
        "outputId": "09cf4eed-639f-4bef-d04c-e6d121d4b937"
      },
      "outputs": [
        {
          "name": "stderr",
          "output_type": "stream",
          "text": [
            "<ipython-input-119-17590d65f481>:1: SettingWithCopyWarning: \n",
            "A value is trying to be set on a copy of a slice from a DataFrame.\n",
            "Try using .loc[row_indexer,col_indexer] = value instead\n",
            "\n",
            "See the caveats in the documentation: https://pandas.pydata.org/pandas-docs/stable/user_guide/indexing.html#returning-a-view-versus-a-copy\n",
            "  df['stemming'] = df['stemming'].replace(\"\", pd.NA)\n"
          ]
        }
      ],
      "source": [
        "df['stemming'] = df['stemming'].replace(\"\", pd.NA)\n",
        "df = df.dropna(subset=['stemming'])"
      ]
    },
    {
      "cell_type": "code",
      "execution_count": null,
      "metadata": {
        "colab": {
          "base_uri": "https://localhost:8080/",
          "height": 178
        },
        "id": "WVFEpdwGuy3G",
        "outputId": "5479f996-2692-4646-903a-fd1112ad51da"
      },
      "outputs": [
        {
          "data": {
            "text/html": [
              "<div>\n",
              "<style scoped>\n",
              "    .dataframe tbody tr th:only-of-type {\n",
              "        vertical-align: middle;\n",
              "    }\n",
              "\n",
              "    .dataframe tbody tr th {\n",
              "        vertical-align: top;\n",
              "    }\n",
              "\n",
              "    .dataframe thead th {\n",
              "        text-align: right;\n",
              "    }\n",
              "</style>\n",
              "<table border=\"1\" class=\"dataframe\">\n",
              "  <thead>\n",
              "    <tr style=\"text-align: right;\">\n",
              "      <th></th>\n",
              "      <th>0</th>\n",
              "    </tr>\n",
              "  </thead>\n",
              "  <tbody>\n",
              "    <tr>\n",
              "      <th>stemming</th>\n",
              "      <td>0</td>\n",
              "    </tr>\n",
              "    <tr>\n",
              "      <th>score</th>\n",
              "      <td>0</td>\n",
              "    </tr>\n",
              "    <tr>\n",
              "      <th>sentimen</th>\n",
              "      <td>0</td>\n",
              "    </tr>\n",
              "  </tbody>\n",
              "</table>\n",
              "</div><br><label><b>dtype:</b> int64</label>"
            ],
            "text/plain": [
              "stemming    0\n",
              "score       0\n",
              "sentimen    0\n",
              "dtype: int64"
            ]
          },
          "execution_count": 120,
          "metadata": {},
          "output_type": "execute_result"
        }
      ],
      "source": [
        "df.isna().sum()"
      ]
    },
    {
      "cell_type": "code",
      "execution_count": null,
      "metadata": {
        "colab": {
          "base_uri": "https://localhost:8080/"
        },
        "id": "yden0Oxvxomu",
        "outputId": "dabe26d7-598d-4a58-a626-bcbed29043d3"
      },
      "outputs": [
        {
          "data": {
            "text/plain": [
              "np.int64(166)"
            ]
          },
          "execution_count": 121,
          "metadata": {},
          "output_type": "execute_result"
        }
      ],
      "source": [
        "df.duplicated().sum()"
      ]
    },
    {
      "cell_type": "code",
      "execution_count": null,
      "metadata": {
        "id": "dDeGgSMxxqi3"
      },
      "outputs": [],
      "source": [
        "df.drop_duplicates(keep = 'first', inplace = True)"
      ]
    },
    {
      "cell_type": "code",
      "execution_count": null,
      "metadata": {
        "colab": {
          "base_uri": "https://localhost:8080/"
        },
        "id": "44-oPKxrZV9V",
        "outputId": "583da627-0e8f-4481-8f7f-f1d00cb7a2e8"
      },
      "outputs": [
        {
          "name": "stdout",
          "output_type": "stream",
          "text": [
            "<class 'pandas.core.frame.DataFrame'>\n",
            "Index: 1510 entries, 0 to 1725\n",
            "Data columns (total 3 columns):\n",
            " #   Column    Non-Null Count  Dtype  \n",
            "---  ------    --------------  -----  \n",
            " 0   stemming  1510 non-null   object \n",
            " 1   score     1510 non-null   float64\n",
            " 2   sentimen  1510 non-null   object \n",
            "dtypes: float64(1), object(2)\n",
            "memory usage: 47.2+ KB\n"
          ]
        }
      ],
      "source": [
        "df.info()"
      ]
    },
    {
      "cell_type": "code",
      "execution_count": 6,
      "metadata": {
        "colab": {
          "base_uri": "https://localhost:8080/",
          "height": 502
        },
        "id": "LgF8FW8HxyFR",
        "outputId": "4e5b5fbc-fe1c-4bdd-cf4d-2b6a0f6e2cbc"
      },
      "outputs": [
        {
          "name": "stderr",
          "output_type": "stream",
          "text": [
            "C:\\Users\\HP\\AppData\\Local\\Temp\\ipykernel_17160\\3770660170.py:7: FutureWarning: \n",
            "\n",
            "Passing `palette` without assigning `hue` is deprecated and will be removed in v0.14.0. Assign the `x` variable to `hue` and set `legend=False` for the same effect.\n",
            "\n",
            "  sns.countplot(x=df['sentimen'], palette=\"coolwarm\")\n"
          ]
        },
        {
          "data": {
            "image/png": "[encoded data removed]",
            "text/plain": [
              "<Figure size 600x400 with 1 Axes>"
            ]
          },
          "metadata": {},
          "output_type": "display_data"
        },
        {
          "name": "stdout",
          "output_type": "stream",
          "text": [
            "Jumlah sentimen positif: 2342\n",
            "Jumlah sentimen netral: 1521\n",
            "Jumlah sentimen negatif: 1026\n",
            "Jumlah sentimen total: 4889\n"
          ]
        }
      ],
      "source": [
        "# Visualisasi distribusi sentimen\n",
        "import seaborn as sns\n",
        "\n",
        "df = pd.read_csv('./data/dataset_labeled (5).csv')\n",
        "\n",
        "plt.figure(figsize=(6, 4))\n",
        "sns.countplot(x=df['sentimen'], palette=\"coolwarm\")\n",
        "plt.xlabel(\"Sentimen\")\n",
        "plt.ylabel(\"Jumlah Ulasan\")\n",
        "plt.title(\"Distribusi Sentimen Ulasan Aplikasi Mobile Fashion Retail\")\n",
        "plt.show()\n",
        "\n",
        "# Menghitung jumlah sentimen positif, netral, negatif, dan total\n",
        "jumlah_positif = df[df['sentimen'] == 'Positif'].shape[0]\n",
        "jumlah_netral = df[df['sentimen'] == 'Netral'].shape[0]\n",
        "jumlah_negatif = df[df['sentimen'] == 'Negatif'].shape[0]\n",
        "jumlah_total = df.shape[0]\n",
        "\n",
        "# Menampilkan hasil\n",
        "print(f\"Jumlah sentimen positif: {jumlah_positif}\")\n",
        "print(f\"Jumlah sentimen netral: {jumlah_netral}\")\n",
        "print(f\"Jumlah sentimen negatif: {jumlah_negatif}\")\n",
        "print(f\"Jumlah sentimen total: {jumlah_total}\")"
      ]
    },
    {
      "cell_type": "code",
      "execution_count": null,
      "metadata": {
        "id": "ZpAeetkv94WD"
      },
      "outputs": [],
      "source": [
        "data = df\n",
        "\n",
        "data = pd.DataFrame(data)\n",
        "\n",
        "file_path = '/content/drive/MyDrive/TA/File/VADER/dataset_labeled (5).csv'\n",
        "\n",
        "# Simpan DataFrame ke dalam file CSV\n",
        "df.to_csv(file_path, index=False)"
      ]
    },
    {
      "cell_type": "markdown",
      "metadata": {
        "id": "9Sb18nwfSoLX"
      },
      "source": [
        "# TF-IDF\n"
      ]
    },
    {
      "cell_type": "code",
      "execution_count": 7,
      "metadata": {
        "colab": {
          "base_uri": "https://localhost:8080/"
        },
        "id": "4lxcMmRpgICP",
        "outputId": "62b9280e-4b9f-4f8d-bf56-cdf427b63790"
      },
      "outputs": [
        {
          "name": "stdout",
          "output_type": "stream",
          "text": [
            "Vectorizer dan Transformer berhasil disimpan sebagai .pkl\n"
          ]
        }
      ],
      "source": [
        "from sklearn.feature_extraction.text import CountVectorizer, TfidfTransformer\n",
        "import joblib\n",
        "\n",
        "df = pd.read_csv('./data/dataset_labeled (5).csv')\n",
        "\n",
        "label_mapping = {'Negatif': 0, 'Netral': 1, 'Positif': 2}\n",
        "df['sentimen'] = df['sentimen'].map(label_mapping)\n",
        "\n",
        "df.dropna(subset=['stemming'], inplace=True)\n",
        "\n",
        "X = df['stemming']\n",
        "\n",
        "# Hitung TF dengan CountVectorizer\n",
        "count_vectorizer = CountVectorizer()\n",
        "df_counts = count_vectorizer.fit_transform(X)\n",
        "\n",
        "# Hitung IDF & TF-IDF dengan TfidfTransformer\n",
        "tfidf_transformer = TfidfTransformer()\n",
        "df_tfidf_manual = tfidf_transformer.fit_transform(df_counts)\n",
        "\n",
        "# Simpan CountVectorizer dan TfidfTransformer\n",
        "joblib.dump(count_vectorizer, './assets/count_vectorizer.pkl')\n",
        "joblib.dump(tfidf_transformer, './assets/tfidf_transformer.pkl')\n",
        "\n",
        "print(\"Vectorizer dan Transformer berhasil disimpan sebagai .pkl\")\n",
        "\n",
        "y = df['sentimen'].values"
      ]
    },
    {
      "cell_type": "code",
      "execution_count": null,
      "metadata": {
        "id": "dZLp7qHg4g1h"
      },
      "outputs": [],
      "source": [
        "# Simpan hasil TF\n",
        "df_tf_manual = pd.DataFrame(df_counts.toarray(), columns=count_vectorizer.get_feature_names_out())\n",
        "df_tf_manual.to_csv('./data/hasil_tf_manual.csv', index=False)\n",
        "\n",
        "# Simpan hasil IDF\n",
        "idf_values = tfidf_transformer.idf_\n",
        "df_idf_manual = pd.DataFrame({\"Kata\": count_vectorizer.get_feature_names_out(), \"IDF\": idf_values})\n",
        "df_idf_manual.to_csv('./data/hasil_idf_manual.csv', index=False)\n",
        "\n",
        "# Simpan hasil TF-IDF\n",
        "df_tfidf_manual = pd.DataFrame(df_tfidf_manual.toarray(), columns=count_vectorizer.get_feature_names_out())\n",
        "df_tfidf_manual.to_csv('./data/hasil_tfidf_manual.csv', index=False)"
      ]
    },
    {
      "cell_type": "markdown",
      "metadata": {
        "id": "8lpuqBvJXpLl"
      },
      "source": [
        "# SMOTE"
      ]
    },
    {
      "cell_type": "code",
      "execution_count": 22,
      "metadata": {
        "colab": {
          "base_uri": "https://localhost:8080/",
          "height": 415
        },
        "id": "e0CAPEMU2b8u",
        "outputId": "70425396-9633-4902-ca5a-e791979df4fa"
      },
      "outputs": [
        {
          "data": {
            "image/png": "[encoded data removed]",
            "text/plain": [
              "<Figure size 600x400 with 1 Axes>"
            ]
          },
          "metadata": {},
          "output_type": "display_data"
        }
      ],
      "source": [
        "from sklearn.model_selection import train_test_split\n",
        "import matplotlib.pyplot as plt\n",
        "\n",
        "X = pd.read_csv('./data/hasil_tfidf_manual.csv')\n",
        "X = X.to_numpy()\n",
        "\n",
        "X_train, X_test, y_train, y_test = train_test_split(X, y, test_size=0.2, random_state=42)\n",
        "\n",
        "plt.figure(figsize=(6, 4))\n",
        "bars = plt.bar(['Data Training', 'Data Testing'], [len(X_train), len(X_test)], color=['blue', 'orange'])\n",
        "\n",
        "for bar in bars:\n",
        "    height = bar.get_height()\n",
        "    plt.text(bar.get_x() + bar.get_width()/2, height + 50, f'{height}', ha='center', va='bottom', fontsize=12, fontweight='bold')\n",
        "\n",
        "plt.title('Distribusi Data Training dan Testing', fontsize=14, fontweight='bold')\n",
        "plt.xlabel('Jenis Data', fontsize=12)\n",
        "plt.ylabel('Jumlah Data', fontsize=12)\n",
        "plt.ylim(0, max(len(X_train), len(X_test)) * 1.2)\n",
        "plt.show()"
      ]
    },
    {
      "cell_type": "code",
      "execution_count": 23,
      "metadata": {
        "colab": {
          "base_uri": "https://localhost:8080/",
          "height": 890
        },
        "id": "F0A71ClkStQV",
        "outputId": "1cecae48-514a-4686-883d-b07c7a9c9b90"
      },
      "outputs": [
        {
          "name": "stdout",
          "output_type": "stream",
          "text": [
            "Sebelum SMOTE:\n",
            "2    1873\n",
            "1    1209\n",
            "0     829\n",
            "Name: count, dtype: int64\n",
            "\n",
            "Setelah SMOTE:\n",
            "1    1873\n",
            "0    1873\n",
            "2    1873\n",
            "Name: count, dtype: int64\n"
          ]
        },
        {
          "name": "stderr",
          "output_type": "stream",
          "text": [
            "C:\\Users\\HP\\AppData\\Local\\Temp\\ipykernel_17160\\1060264289.py:20: FutureWarning: \n",
            "\n",
            "Passing `palette` without assigning `hue` is deprecated and will be removed in v0.14.0. Assign the `x` variable to `hue` and set `legend=False` for the same effect.\n",
            "\n",
            "  sns.barplot(x=y_train_series.value_counts().index, y=y_train_series.value_counts().values, palette=\"Blues\")\n",
            "C:\\Users\\HP\\AppData\\Local\\Temp\\ipykernel_17160\\1060264289.py:27: FutureWarning: \n",
            "\n",
            "Passing `palette` without assigning `hue` is deprecated and will be removed in v0.14.0. Assign the `x` variable to `hue` and set `legend=False` for the same effect.\n",
            "\n",
            "  sns.barplot(x=y_train_resampled_series.value_counts().index, y=y_train_resampled_series.value_counts().values, palette=\"Greens\")\n"
          ]
        },
        {
          "data": {
            "image/png": "[encoded data removed]",
            "text/plain": [
              "<Figure size 1200x500 with 2 Axes>"
            ]
          },
          "metadata": {},
          "output_type": "display_data"
        }
      ],
      "source": [
        "from imblearn.over_sampling import SMOTE\n",
        "import matplotlib.pyplot as plt\n",
        "import seaborn as sns\n",
        "from collections import Counter\n",
        "\n",
        "smote = SMOTE(random_state=42)\n",
        "X_train_resampled, y_train_resampled = smote.fit_resample(X_train, y_train)\n",
        "\n",
        "y_train_series = pd.Series(y_train)\n",
        "y_train_resampled_series = pd.Series(y_train_resampled)\n",
        "print(\"Sebelum SMOTE:\")\n",
        "print(y_train_series.value_counts())\n",
        "print(\"\\nSetelah SMOTE:\")\n",
        "print(y_train_resampled_series.value_counts())\n",
        "\n",
        "# Sebelum SMOTE\n",
        "plt.figure(figsize=(12, 5))\n",
        "\n",
        "plt.subplot(1, 2, 1)\n",
        "sns.barplot(x=y_train_series.value_counts().index, y=y_train_series.value_counts().values, palette=\"Blues\")\n",
        "plt.title(\"Distribusi Kelas Sebelum SMOTE\")\n",
        "plt.xlabel(\"Kelas Sentimen\")\n",
        "plt.ylabel(\"Jumlah Sampel\")\n",
        "\n",
        "# Setelah SMOTE\n",
        "plt.subplot(1, 2, 2)\n",
        "sns.barplot(x=y_train_resampled_series.value_counts().index, y=y_train_resampled_series.value_counts().values, palette=\"Greens\")\n",
        "plt.title(\"Distribusi Kelas Setelah SMOTE\")\n",
        "plt.xlabel(\"Kelas Sentimen\")\n",
        "plt.ylabel(\"Jumlah Sampel\")\n",
        "\n",
        "plt.tight_layout()\n",
        "plt.show()"
      ]
    },
    {
      "cell_type": "code",
      "execution_count": 24,
      "metadata": {
        "colab": {
          "base_uri": "https://localhost:8080/"
        },
        "id": "_Vd1vuUJBYPT",
        "outputId": "ffafb70a-b8df-465d-f3bd-7a49e758976f"
      },
      "outputs": [
        {
          "name": "stdout",
          "output_type": "stream",
          "text": [
            "Ukuran X_train_resampled: (5619, 4068)\n",
            "Ukuran y_train_resampled: (5619,)\n",
            "Ukuran X_test: (978, 4068)\n",
            "Ukuran y_test: (978,)\n"
          ]
        }
      ],
      "source": [
        "print(f\"Ukuran X_train_resampled: {X_train_resampled.shape}\")\n",
        "print(f\"Ukuran y_train_resampled: {y_train_resampled.shape}\")\n",
        "print(f\"Ukuran X_test: {X_test.shape}\")\n",
        "print(f\"Ukuran y_test: {y_test.shape}\")"
      ]
    },
    {
      "cell_type": "code",
      "execution_count": null,
      "metadata": {
        "id": "dKOZdBEhXIzZ"
      },
      "outputs": [],
      "source": [
        "# Gabungkan X_train_resampled dan y_train_resampled menjadi DataFrame\n",
        "df_resampled = pd.DataFrame(X_train_resampled)  # Konversi dari sparse matrix jika perlu\n",
        "df_resampled['label'] = y_train_resampled  # Tambahkan label\n",
        "\n",
        "# Simpan ke CSV\n",
        "df_resampled.to_csv('./data/df_resampled.csv', index=False)"
      ]
    },
    {
      "cell_type": "markdown",
      "metadata": {
        "id": "YoNQiIg9XJx9"
      },
      "source": [
        "# Modelling"
      ]
    },
    {
      "cell_type": "markdown",
      "metadata": {
        "id": "sIOio776Zl4w"
      },
      "source": [
        "## Base Model"
      ]
    },
    {
      "cell_type": "code",
      "execution_count": 50,
      "metadata": {
        "colab": {
          "base_uri": "https://localhost:8080/",
          "height": 137
        },
        "id": "aHGnykFhZl4x",
        "outputId": "584a86ee-192c-42cb-8364-e97a1d928879"
      },
      "outputs": [
        {
          "data": {
            "text/html": [
              "<style>#sk-container-id-14 {color: black;}#sk-container-id-14 pre{padding: 0;}#sk-container-id-14 div.sk-toggleable {background-color: white;}#sk-container-id-14 label.sk-toggleable__label {cursor: pointer;display: block;width: 100%;margin-bottom: 0;padding: 0.3em;box-sizing: border-box;text-align: center;}#sk-container-id-14 label.sk-toggleable__label-arrow:before {content: \"▸\";float: left;margin-right: 0.25em;color: #696969;}#sk-container-id-14 label.sk-toggleable__label-arrow:hover:before {color: black;}#sk-container-id-14 div.sk-estimator:hover label.sk-toggleable__label-arrow:before {color: black;}#sk-container-id-14 div.sk-toggleable__content {max-height: 0;max-width: 0;overflow: hidden;text-align: left;background-color: #f0f8ff;}#sk-container-id-14 div.sk-toggleable__content pre {margin: 0.2em;color: black;border-radius: 0.25em;background-color: #f0f8ff;}#sk-container-id-14 input.sk-toggleable__control:checked~div.sk-toggleable__content {max-height: 200px;max-width: 100%;overflow: auto;}#sk-container-id-14 input.sk-toggleable__control:checked~label.sk-toggleable__label-arrow:before {content: \"▾\";}#sk-container-id-14 div.sk-estimator input.sk-toggleable__control:checked~label.sk-toggleable__label {background-color: #d4ebff;}#sk-container-id-14 div.sk-label input.sk-toggleable__control:checked~label.sk-toggleable__label {background-color: #d4ebff;}#sk-container-id-14 input.sk-hidden--visually {border: 0;clip: rect(1px 1px 1px 1px);clip: rect(1px, 1px, 1px, 1px);height: 1px;margin: -1px;overflow: hidden;padding: 0;position: absolute;width: 1px;}#sk-container-id-14 div.sk-estimator {font-family: monospace;background-color: #f0f8ff;border: 1px dotted black;border-radius: 0.25em;box-sizing: border-box;margin-bottom: 0.5em;}#sk-container-id-14 div.sk-estimator:hover {background-color: #d4ebff;}#sk-container-id-14 div.sk-parallel-item::after {content: \"\";width: 100%;border-bottom: 1px solid gray;flex-grow: 1;}#sk-container-id-14 div.sk-label:hover label.sk-toggleable__label {background-color: #d4ebff;}#sk-container-id-14 div.sk-serial::before {content: \"\";position: absolute;border-left: 1px solid gray;box-sizing: border-box;top: 0;bottom: 0;left: 50%;z-index: 0;}#sk-container-id-14 div.sk-serial {display: flex;flex-direction: column;align-items: center;background-color: white;padding-right: 0.2em;padding-left: 0.2em;position: relative;}#sk-container-id-14 div.sk-item {position: relative;z-index: 1;}#sk-container-id-14 div.sk-parallel {display: flex;align-items: stretch;justify-content: center;background-color: white;position: relative;}#sk-container-id-14 div.sk-item::before, #sk-container-id-14 div.sk-parallel-item::before {content: \"\";position: absolute;border-left: 1px solid gray;box-sizing: border-box;top: 0;bottom: 0;left: 50%;z-index: -1;}#sk-container-id-14 div.sk-parallel-item {display: flex;flex-direction: column;z-index: 1;position: relative;background-color: white;}#sk-container-id-14 div.sk-parallel-item:first-child::after {align-self: flex-end;width: 50%;}#sk-container-id-14 div.sk-parallel-item:last-child::after {align-self: flex-start;width: 50%;}#sk-container-id-14 div.sk-parallel-item:only-child::after {width: 0;}#sk-container-id-14 div.sk-dashed-wrapped {border: 1px dashed gray;margin: 0 0.4em 0.5em 0.4em;box-sizing: border-box;padding-bottom: 0.4em;background-color: white;}#sk-container-id-14 div.sk-label label {font-family: monospace;font-weight: bold;display: inline-block;line-height: 1.2em;}#sk-container-id-14 div.sk-label-container {text-align: center;}#sk-container-id-14 div.sk-container {/* jupyter's `normalize.less` sets `[hidden] { display: none; }` but bootstrap.min.css set `[hidden] { display: none !important; }` so we also need the `!important` here to be able to override the default hidden behavior on the sphinx rendered scikit-learn.org. See: https://github.com/scikit-learn/scikit-learn/issues/21755 */display: inline-block !important;position: relative;}#sk-container-id-14 div.sk-text-repr-fallback {display: none;}</style><div id=\"sk-container-id-14\" class=\"sk-top-container\"><div class=\"sk-text-repr-fallback\"><pre>VotingClassifier(estimators=[(&#x27;nb&#x27;, MultinomialNB()),\n",
              "                             (&#x27;svm&#x27;, SVC(probability=True, random_state=42))],\n",
              "                 voting=&#x27;soft&#x27;)</pre><b>In a Jupyter environment, please rerun this cell to show the HTML representation or trust the notebook. <br />On GitHub, the HTML representation is unable to render, please try loading this page with nbviewer.org.</b></div><div class=\"sk-container\" hidden><div class=\"sk-item sk-dashed-wrapped\"><div class=\"sk-label-container\"><div class=\"sk-label sk-toggleable\"><input class=\"sk-toggleable__control sk-hidden--visually\" id=\"sk-estimator-id-40\" type=\"checkbox\" ><label for=\"sk-estimator-id-40\" class=\"sk-toggleable__label sk-toggleable__label-arrow\">VotingClassifier</label><div class=\"sk-toggleable__content\"><pre>VotingClassifier(estimators=[(&#x27;nb&#x27;, MultinomialNB()),\n",
              "                             (&#x27;svm&#x27;, SVC(probability=True, random_state=42))],\n",
              "                 voting=&#x27;soft&#x27;)</pre></div></div></div><div class=\"sk-parallel\"><div class=\"sk-parallel-item\"><div class=\"sk-item\"><div class=\"sk-label-container\"><div class=\"sk-label sk-toggleable\"><label>nb</label></div></div><div class=\"sk-serial\"><div class=\"sk-item\"><div class=\"sk-estimator sk-toggleable\"><input class=\"sk-toggleable__control sk-hidden--visually\" id=\"sk-estimator-id-41\" type=\"checkbox\" ><label for=\"sk-estimator-id-41\" class=\"sk-toggleable__label sk-toggleable__label-arrow\">MultinomialNB</label><div class=\"sk-toggleable__content\"><pre>MultinomialNB()</pre></div></div></div></div></div></div><div class=\"sk-parallel-item\"><div class=\"sk-item\"><div class=\"sk-label-container\"><div class=\"sk-label sk-toggleable\"><label>svm</label></div></div><div class=\"sk-serial\"><div class=\"sk-item\"><div class=\"sk-estimator sk-toggleable\"><input class=\"sk-toggleable__control sk-hidden--visually\" id=\"sk-estimator-id-42\" type=\"checkbox\" ><label for=\"sk-estimator-id-42\" class=\"sk-toggleable__label sk-toggleable__label-arrow\">SVC</label><div class=\"sk-toggleable__content\"><pre>SVC(probability=True, random_state=42)</pre></div></div></div></div></div></div></div></div></div></div>"
            ],
            "text/plain": [
              "VotingClassifier(estimators=[('nb', MultinomialNB()),\n",
              "                             ('svm', SVC(probability=True, random_state=42))],\n",
              "                 voting='soft')"
            ]
          },
          "execution_count": 50,
          "metadata": {},
          "output_type": "execute_result"
        }
      ],
      "source": [
        "from sklearn.naive_bayes import MultinomialNB\n",
        "from sklearn.svm import SVC\n",
        "from sklearn.ensemble import VotingClassifier\n",
        "from sklearn.metrics import accuracy_score, precision_score, recall_score, f1_score, classification_report, confusion_matrix\n",
        "\n",
        "# NB\n",
        "nb_model = MultinomialNB()\n",
        "nb_model.fit(X_train_resampled, y_train_resampled)\n",
        "\n",
        "# SVM\n",
        "svm_model = SVC(probability=True, random_state=42)\n",
        "svm_model.fit(X_train_resampled, y_train_resampled)\n",
        "\n",
        "# Hybrid\n",
        "hybrid_model = VotingClassifier(\n",
        "    estimators=[\n",
        "        ('nb', nb_model),\n",
        "        ('svm', svm_model)\n",
        "    ],\n",
        "    voting='soft'\n",
        ")\n",
        "\n",
        "hybrid_model.fit(X_train_resampled, y_train_resampled)"
      ]
    },
    {
      "cell_type": "code",
      "execution_count": 51,
      "metadata": {
        "colab": {
          "base_uri": "https://localhost:8080/",
          "height": 1000
        },
        "id": "zLlRm9VkZl4y",
        "outputId": "5860a986-51ab-45ec-814d-6729ee1e73c5"
      },
      "outputs": [
        {
          "name": "stdout",
          "output_type": "stream",
          "text": [
            "\n",
            "=== Evaluasi Naïve Bayes ===\n",
            "Akurasi: 0.7004\n",
            "Precision: 0.7367\n",
            "Recall: 0.7004\n",
            "F1-Score: 0.7033\n",
            "\n",
            "Classification Report:\n",
            "              precision    recall  f1-score   support\n",
            "\n",
            "     Negatif       0.47      0.83      0.60       160\n",
            "      Netral       0.71      0.49      0.58       282\n",
            "     Positif       0.83      0.77      0.80       536\n",
            "\n",
            "    accuracy                           0.70       978\n",
            "   macro avg       0.67      0.70      0.66       978\n",
            "weighted avg       0.74      0.70      0.70       978\n",
            "\n",
            "Confusion Matrix disimpan sebagai confusion_matrix_Naïve_Bayes.png\n"
          ]
        },
        {
          "data": {
            "image/png": "[encoded data removed]",
            "text/plain": [
              "<Figure size 800x600 with 2 Axes>"
            ]
          },
          "metadata": {},
          "output_type": "display_data"
        },
        {
          "name": "stdout",
          "output_type": "stream",
          "text": [
            "\n",
            "=== Evaluasi SVM ===\n",
            "Akurasi: 0.7658\n",
            "Precision: 0.7648\n",
            "Recall: 0.7658\n",
            "F1-Score: 0.7653\n",
            "\n",
            "Classification Report:\n",
            "              precision    recall  f1-score   support\n",
            "\n",
            "     Negatif       0.61      0.59      0.60       160\n",
            "      Netral       0.72      0.71      0.71       282\n",
            "     Positif       0.84      0.85      0.84       536\n",
            "\n",
            "    accuracy                           0.77       978\n",
            "   macro avg       0.72      0.72      0.72       978\n",
            "weighted avg       0.76      0.77      0.77       978\n",
            "\n",
            "Confusion Matrix disimpan sebagai confusion_matrix_SVM.png\n"
          ]
        },
        {
          "data": {
            "image/png": "[encoded data removed]",
            "text/plain": [
              "<Figure size 800x600 with 2 Axes>"
            ]
          },
          "metadata": {},
          "output_type": "display_data"
        },
        {
          "name": "stdout",
          "output_type": "stream",
          "text": [
            "\n",
            "=== Evaluasi Hybrid ===\n",
            "Akurasi: 0.7648\n",
            "Precision: 0.7719\n",
            "Recall: 0.7648\n",
            "F1-Score: 0.7667\n",
            "\n",
            "Classification Report:\n",
            "              precision    recall  f1-score   support\n",
            "\n",
            "     Negatif       0.58      0.71      0.63       160\n",
            "      Netral       0.75      0.67      0.71       282\n",
            "     Positif       0.84      0.83      0.84       536\n",
            "\n",
            "    accuracy                           0.76       978\n",
            "   macro avg       0.72      0.74      0.73       978\n",
            "weighted avg       0.77      0.76      0.77       978\n",
            "\n",
            "Confusion Matrix disimpan sebagai confusion_matrix_Hybrid.png\n"
          ]
        },
        {
          "data": {
            "image/png": "[encoded data removed]",
            "text/plain": [
              "<Figure size 800x600 with 2 Axes>"
            ]
          },
          "metadata": {},
          "output_type": "display_data"
        }
      ],
      "source": [
        "import matplotlib.pyplot as plt\n",
        "import seaborn as sns\n",
        "\n",
        "def evaluate_model(model, X_test, y_test, model_name):\n",
        "    y_pred = model.predict(X_test)\n",
        "\n",
        "    accuracy = accuracy_score(y_test, y_pred)\n",
        "    precision = precision_score(y_test, y_pred, average=\"weighted\")\n",
        "    recall = recall_score(y_test, y_pred, average=\"weighted\")\n",
        "    f1 = f1_score(y_test, y_pred, average=\"weighted\")\n",
        "\n",
        "    print(f\"\\n=== Evaluasi {model_name} ===\")\n",
        "    print(f\"Akurasi: {accuracy:.4f}\")\n",
        "    print(f\"Precision: {precision:.4f}\")\n",
        "    print(f\"Recall: {recall:.4f}\")\n",
        "    print(f\"F1-Score: {f1:.4f}\")\n",
        "    print(\"\\nClassification Report:\")\n",
        "    print(classification_report(y_test, y_pred, target_names=['Negatif', 'Netral', 'Positif']))\n",
        "\n",
        "    # Confusion Matrix\n",
        "    conf_matrix = confusion_matrix(y_test, y_pred)\n",
        "    plt.figure(figsize=(8, 6))\n",
        "    sns.heatmap(conf_matrix, annot=True, fmt='d', cmap='Blues',\n",
        "                xticklabels=['Negatif', 'Netral', 'Positif'],\n",
        "                yticklabels=['Negatif', 'Netral', 'Positif'])\n",
        "    plt.xlabel('Predicted')\n",
        "    plt.ylabel('Actual')\n",
        "    plt.title(f'Confusion Matrix - {model_name}')\n",
        "\n",
        "    # Simpan gambar\n",
        "    filename = f\"confusion_matrix_{model_name.replace(' ', '_')}.png\"\n",
        "    plt.savefig(filename, dpi=300, bbox_inches=\"tight\")\n",
        "    print(f\"Confusion Matrix disimpan sebagai {filename}\")\n",
        "\n",
        "    plt.show()\n",
        "\n",
        "evaluate_model(nb_model, X_test, y_test, \"Naïve Bayes\")\n",
        "evaluate_model(svm_model, X_test, y_test, \"SVM\")\n",
        "evaluate_model(hybrid_model, X_test, y_test, \"Hybrid\")"
      ]
    },
    {
      "cell_type": "markdown",
      "metadata": {
        "id": "sQ0dVnClXPnL"
      },
      "source": [
        "## Dengan Optimasi"
      ]
    },
    {
      "cell_type": "code",
      "execution_count": null,
      "metadata": {
        "colab": {
          "base_uri": "https://localhost:8080/",
          "height": 174
        },
        "id": "N47lqyTa8GVo",
        "outputId": "1f99b903-a55c-4be1-c6b4-ffd7eae7f3c1"
      },
      "outputs": [
        {
          "name": "stdout",
          "output_type": "stream",
          "text": [
            "Best Naïve Bayes Params: {'alpha': 0.12058449429580245}\n",
            "Best SVM Params: {'kernel': 'linear', 'gamma': 'scale', 'C': 2.23235229154987}\n"
          ]
        },
        {
          "data": {
            "text/html": [
              "<style>#sk-container-id-6 {color: black;}#sk-container-id-6 pre{padding: 0;}#sk-container-id-6 div.sk-toggleable {background-color: white;}#sk-container-id-6 label.sk-toggleable__label {cursor: pointer;display: block;width: 100%;margin-bottom: 0;padding: 0.3em;box-sizing: border-box;text-align: center;}#sk-container-id-6 label.sk-toggleable__label-arrow:before {content: \"▸\";float: left;margin-right: 0.25em;color: #696969;}#sk-container-id-6 label.sk-toggleable__label-arrow:hover:before {color: black;}#sk-container-id-6 div.sk-estimator:hover label.sk-toggleable__label-arrow:before {color: black;}#sk-container-id-6 div.sk-toggleable__content {max-height: 0;max-width: 0;overflow: hidden;text-align: left;background-color: #f0f8ff;}#sk-container-id-6 div.sk-toggleable__content pre {margin: 0.2em;color: black;border-radius: 0.25em;background-color: #f0f8ff;}#sk-container-id-6 input.sk-toggleable__control:checked~div.sk-toggleable__content {max-height: 200px;max-width: 100%;overflow: auto;}#sk-container-id-6 input.sk-toggleable__control:checked~label.sk-toggleable__label-arrow:before {content: \"▾\";}#sk-container-id-6 div.sk-estimator input.sk-toggleable__control:checked~label.sk-toggleable__label {background-color: #d4ebff;}#sk-container-id-6 div.sk-label input.sk-toggleable__control:checked~label.sk-toggleable__label {background-color: #d4ebff;}#sk-container-id-6 input.sk-hidden--visually {border: 0;clip: rect(1px 1px 1px 1px);clip: rect(1px, 1px, 1px, 1px);height: 1px;margin: -1px;overflow: hidden;padding: 0;position: absolute;width: 1px;}#sk-container-id-6 div.sk-estimator {font-family: monospace;background-color: #f0f8ff;border: 1px dotted black;border-radius: 0.25em;box-sizing: border-box;margin-bottom: 0.5em;}#sk-container-id-6 div.sk-estimator:hover {background-color: #d4ebff;}#sk-container-id-6 div.sk-parallel-item::after {content: \"\";width: 100%;border-bottom: 1px solid gray;flex-grow: 1;}#sk-container-id-6 div.sk-label:hover label.sk-toggleable__label {background-color: #d4ebff;}#sk-container-id-6 div.sk-serial::before {content: \"\";position: absolute;border-left: 1px solid gray;box-sizing: border-box;top: 0;bottom: 0;left: 50%;z-index: 0;}#sk-container-id-6 div.sk-serial {display: flex;flex-direction: column;align-items: center;background-color: white;padding-right: 0.2em;padding-left: 0.2em;position: relative;}#sk-container-id-6 div.sk-item {position: relative;z-index: 1;}#sk-container-id-6 div.sk-parallel {display: flex;align-items: stretch;justify-content: center;background-color: white;position: relative;}#sk-container-id-6 div.sk-item::before, #sk-container-id-6 div.sk-parallel-item::before {content: \"\";position: absolute;border-left: 1px solid gray;box-sizing: border-box;top: 0;bottom: 0;left: 50%;z-index: -1;}#sk-container-id-6 div.sk-parallel-item {display: flex;flex-direction: column;z-index: 1;position: relative;background-color: white;}#sk-container-id-6 div.sk-parallel-item:first-child::after {align-self: flex-end;width: 50%;}#sk-container-id-6 div.sk-parallel-item:last-child::after {align-self: flex-start;width: 50%;}#sk-container-id-6 div.sk-parallel-item:only-child::after {width: 0;}#sk-container-id-6 div.sk-dashed-wrapped {border: 1px dashed gray;margin: 0 0.4em 0.5em 0.4em;box-sizing: border-box;padding-bottom: 0.4em;background-color: white;}#sk-container-id-6 div.sk-label label {font-family: monospace;font-weight: bold;display: inline-block;line-height: 1.2em;}#sk-container-id-6 div.sk-label-container {text-align: center;}#sk-container-id-6 div.sk-container {/* jupyter's `normalize.less` sets `[hidden] { display: none; }` but bootstrap.min.css set `[hidden] { display: none !important; }` so we also need the `!important` here to be able to override the default hidden behavior on the sphinx rendered scikit-learn.org. See: https://github.com/scikit-learn/scikit-learn/issues/21755 */display: inline-block !important;position: relative;}#sk-container-id-6 div.sk-text-repr-fallback {display: none;}</style><div id=\"sk-container-id-6\" class=\"sk-top-container\"><div class=\"sk-text-repr-fallback\"><pre>VotingClassifier(estimators=[(&#x27;nb&#x27;, MultinomialNB(alpha=0.12058449429580245)),\n",
              "                             (&#x27;svm&#x27;,\n",
              "                              SVC(C=2.23235229154987, kernel=&#x27;linear&#x27;,\n",
              "                                  probability=True, random_state=42))],\n",
              "                 voting=&#x27;soft&#x27;, weights=[1, 2])</pre><b>In a Jupyter environment, please rerun this cell to show the HTML representation or trust the notebook. <br />On GitHub, the HTML representation is unable to render, please try loading this page with nbviewer.org.</b></div><div class=\"sk-container\" hidden><div class=\"sk-item sk-dashed-wrapped\"><div class=\"sk-label-container\"><div class=\"sk-label sk-toggleable\"><input class=\"sk-toggleable__control sk-hidden--visually\" id=\"sk-estimator-id-16\" type=\"checkbox\" ><label for=\"sk-estimator-id-16\" class=\"sk-toggleable__label sk-toggleable__label-arrow\">VotingClassifier</label><div class=\"sk-toggleable__content\"><pre>VotingClassifier(estimators=[(&#x27;nb&#x27;, MultinomialNB(alpha=0.12058449429580245)),\n",
              "                             (&#x27;svm&#x27;,\n",
              "                              SVC(C=2.23235229154987, kernel=&#x27;linear&#x27;,\n",
              "                                  probability=True, random_state=42))],\n",
              "                 voting=&#x27;soft&#x27;, weights=[1, 2])</pre></div></div></div><div class=\"sk-parallel\"><div class=\"sk-parallel-item\"><div class=\"sk-item\"><div class=\"sk-label-container\"><div class=\"sk-label sk-toggleable\"><label>nb</label></div></div><div class=\"sk-serial\"><div class=\"sk-item\"><div class=\"sk-estimator sk-toggleable\"><input class=\"sk-toggleable__control sk-hidden--visually\" id=\"sk-estimator-id-17\" type=\"checkbox\" ><label for=\"sk-estimator-id-17\" class=\"sk-toggleable__label sk-toggleable__label-arrow\">MultinomialNB</label><div class=\"sk-toggleable__content\"><pre>MultinomialNB(alpha=0.12058449429580245)</pre></div></div></div></div></div></div><div class=\"sk-parallel-item\"><div class=\"sk-item\"><div class=\"sk-label-container\"><div class=\"sk-label sk-toggleable\"><label>svm</label></div></div><div class=\"sk-serial\"><div class=\"sk-item\"><div class=\"sk-estimator sk-toggleable\"><input class=\"sk-toggleable__control sk-hidden--visually\" id=\"sk-estimator-id-18\" type=\"checkbox\" ><label for=\"sk-estimator-id-18\" class=\"sk-toggleable__label sk-toggleable__label-arrow\">SVC</label><div class=\"sk-toggleable__content\"><pre>SVC(C=2.23235229154987, kernel=&#x27;linear&#x27;, probability=True, random_state=42)</pre></div></div></div></div></div></div></div></div></div></div>"
            ],
            "text/plain": [
              "VotingClassifier(estimators=[('nb', MultinomialNB(alpha=0.12058449429580245)),\n",
              "                             ('svm',\n",
              "                              SVC(C=2.23235229154987, kernel='linear',\n",
              "                                  probability=True, random_state=42))],\n",
              "                 voting='soft', weights=[1, 2])"
            ]
          },
          "execution_count": 27,
          "metadata": {},
          "output_type": "execute_result"
        }
      ],
      "source": [
        "from sklearn.naive_bayes import MultinomialNB\n",
        "from sklearn.svm import SVC\n",
        "from sklearn.ensemble import VotingClassifier\n",
        "from sklearn.metrics import accuracy_score, precision_score, recall_score, f1_score, classification_report, confusion_matrix\n",
        "from sklearn.model_selection import RandomizedSearchCV\n",
        "from scipy.stats import uniform\n",
        "\n",
        "# NB\n",
        "nb_params = {'alpha': uniform(0.1, 1)}\n",
        "\n",
        "nb_random_search = RandomizedSearchCV(\n",
        "    estimator=MultinomialNB(),\n",
        "    param_distributions=nb_params,\n",
        "    n_iter=20,\n",
        "    cv=5,\n",
        "    scoring='accuracy',\n",
        "    random_state=42,\n",
        "    n_jobs=-1\n",
        ")\n",
        "\n",
        "nb_random_search.fit(X_train_resampled, y_train_resampled)\n",
        "best_nb = nb_random_search.best_estimator_\n",
        "\n",
        "print(\"Best Naïve Bayes Params:\", nb_random_search.best_params_)\n",
        "\n",
        "# SVM\n",
        "svm_params = {\n",
        "    'C': uniform(0.5, 2.0),\n",
        "    'kernel': ['linear', 'rbf'],\n",
        "    'gamma': ['scale', 'auto'],\n",
        "}\n",
        "\n",
        "svm_random_search = RandomizedSearchCV(\n",
        "    estimator=SVC(probability=True, random_state=42),\n",
        "    param_distributions=svm_params,\n",
        "    n_iter=20,\n",
        "    cv=5,\n",
        "    scoring='accuracy',\n",
        "    random_state=42,\n",
        "    n_jobs=-1\n",
        ")\n",
        "\n",
        "svm_random_search.fit(X_train_resampled, y_train_resampled)\n",
        "best_svm = svm_random_search.best_estimator_\n",
        "\n",
        "print(\"Best SVM Params:\", svm_random_search.best_params_)\n",
        "\n",
        "# Hybrid\n",
        "hybrid_model_optimized = VotingClassifier(\n",
        "    estimators=[\n",
        "        ('nb', best_nb),\n",
        "        ('svm', best_svm)\n",
        "    ],\n",
        "    voting='soft',\n",
        ")\n",
        "\n",
        "hybrid_model_optimized.fit(X_train_resampled, y_train_resampled)"
      ]
    },
    {
      "cell_type": "code",
      "execution_count": 28,
      "metadata": {
        "colab": {
          "base_uri": "https://localhost:8080/",
          "height": 1000
        },
        "id": "75_JORJLWjcU",
        "outputId": "7ae33e21-9f99-40dd-c057-d4166043a090"
      },
      "outputs": [
        {
          "name": "stdout",
          "output_type": "stream",
          "text": [
            "\n",
            "=== Evaluasi Naïve Bayes ===\n",
            "Akurasi: 0.7382\n",
            "Precision: 0.7543\n",
            "Recall: 0.7382\n",
            "F1-Score: 0.7358\n",
            "\n",
            "Classification Report:\n",
            "              precision    recall  f1-score   support\n",
            "\n",
            "     Negatif       0.59      0.85      0.70       197\n",
            "      Netral       0.77      0.55      0.65       312\n",
            "     Positif       0.81      0.81      0.81       469\n",
            "\n",
            "    accuracy                           0.74       978\n",
            "   macro avg       0.72      0.74      0.72       978\n",
            "weighted avg       0.75      0.74      0.74       978\n",
            "\n",
            "Confusion Matrix disimpan sebagai confusion_matrix_Naïve_Bayes.png\n"
          ]
        },
        {
          "data": {
            "image/png": "[encoded data removed]",
            "text/plain": [
              "<Figure size 800x600 with 2 Axes>"
            ]
          },
          "metadata": {},
          "output_type": "display_data"
        },
        {
          "name": "stdout",
          "output_type": "stream",
          "text": [
            "\n",
            "=== Evaluasi SVM ===\n",
            "Akurasi: 0.8129\n",
            "Precision: 0.8162\n",
            "Recall: 0.8129\n",
            "F1-Score: 0.8139\n",
            "\n",
            "Classification Report:\n",
            "              precision    recall  f1-score   support\n",
            "\n",
            "     Negatif       0.75      0.80      0.77       197\n",
            "      Netral       0.77      0.79      0.78       312\n",
            "     Positif       0.88      0.83      0.85       469\n",
            "\n",
            "    accuracy                           0.81       978\n",
            "   macro avg       0.80      0.81      0.80       978\n",
            "weighted avg       0.82      0.81      0.81       978\n",
            "\n",
            "Confusion Matrix disimpan sebagai confusion_matrix_SVM.png\n"
          ]
        },
        {
          "data": {
            "image/png": "[encoded data removed]",
            "text/plain": [
              "<Figure size 800x600 with 2 Axes>"
            ]
          },
          "metadata": {},
          "output_type": "display_data"
        },
        {
          "name": "stdout",
          "output_type": "stream",
          "text": [
            "\n",
            "=== Evaluasi Hybrid ===\n",
            "Akurasi: 0.8200\n",
            "Precision: 0.8200\n",
            "Recall: 0.8200\n",
            "F1-Score: 0.8199\n",
            "\n",
            "Classification Report:\n",
            "              precision    recall  f1-score   support\n",
            "\n",
            "     Negatif       0.78      0.80      0.79       197\n",
            "      Netral       0.79      0.77      0.78       312\n",
            "     Positif       0.86      0.86      0.86       469\n",
            "\n",
            "    accuracy                           0.82       978\n",
            "   macro avg       0.81      0.81      0.81       978\n",
            "weighted avg       0.82      0.82      0.82       978\n",
            "\n",
            "Confusion Matrix disimpan sebagai confusion_matrix_Hybrid.png\n"
          ]
        },
        {
          "data": {
            "image/png": "[encoded data removed]",
            "text/plain": [
              "<Figure size 800x600 with 2 Axes>"
            ]
          },
          "metadata": {},
          "output_type": "display_data"
        }
      ],
      "source": [
        "import matplotlib.pyplot as plt\n",
        "import seaborn as sns\n",
        "\n",
        "def evaluate_model(model, X_test, y_test, model_name):\n",
        "    y_pred = model.predict(X_test)\n",
        "\n",
        "    accuracy = accuracy_score(y_test, y_pred)\n",
        "    precision = precision_score(y_test, y_pred, average=\"weighted\")\n",
        "    recall = recall_score(y_test, y_pred, average=\"weighted\")\n",
        "    f1 = f1_score(y_test, y_pred, average=\"weighted\")\n",
        "\n",
        "    print(f\"\\n=== Evaluasi {model_name} ===\")\n",
        "    print(f\"Akurasi: {accuracy:.4f}\")\n",
        "    print(f\"Precision: {precision:.4f}\")\n",
        "    print(f\"Recall: {recall:.4f}\")\n",
        "    print(f\"F1-Score: {f1:.4f}\")\n",
        "    print(\"\\nClassification Report:\")\n",
        "    print(classification_report(y_test, y_pred, target_names=['Negatif', 'Netral', 'Positif']))\n",
        "\n",
        "    # Confusion Matrix\n",
        "    conf_matrix = confusion_matrix(y_test, y_pred)\n",
        "    plt.figure(figsize=(8, 6))\n",
        "    sns.heatmap(conf_matrix, annot=True, fmt='d', cmap='Blues',\n",
        "                xticklabels=['Negatif', 'Netral', 'Positif'],\n",
        "                yticklabels=['Negatif', 'Netral', 'Positif'])\n",
        "    plt.xlabel('Predicted')\n",
        "    plt.ylabel('Actual')\n",
        "    plt.title(f'Confusion Matrix - {model_name}')\n",
        "\n",
        "    # Simpan gambar\n",
        "    filename = f\"confusion_matrix_{model_name.replace(' ', '_')}.png\"\n",
        "    plt.savefig(filename, dpi=300, bbox_inches=\"tight\")\n",
        "    print(f\"Confusion Matrix disimpan sebagai {filename}\")\n",
        "\n",
        "    plt.show()\n",
        "\n",
        "evaluate_model(best_nb, X_test, y_test, \"Naïve Bayes\")\n",
        "evaluate_model(best_svm, X_test, y_test, \"SVM\")\n",
        "evaluate_model(hybrid_model_optimized, X_test, y_test, \"Hybrid\")"
      ]
    },
    {
      "cell_type": "code",
      "execution_count": null,
      "metadata": {
        "colab": {
          "base_uri": "https://localhost:8080/"
        },
        "id": "4jbz3ugB3mBk",
        "outputId": "c645c7f0-7ea4-4296-f486-16b3263b9298"
      },
      "outputs": [
        {
          "name": "stdout",
          "output_type": "stream",
          "text": [
            "Model berhasil disimpan!\n"
          ]
        }
      ],
      "source": [
        "import joblib\n",
        "\n",
        "joblib.dump(best_nb, \"./assets/NEW_optimized_naive_bayes_model.pkl\")\n",
        "joblib.dump(best_svm, \"./assets/NEW_optimized_svm_model.pkl\")\n",
        "joblib.dump(hybrid_model_optimized, \"./assets/NEW_optimized_hybrid_model.pkl\")\n",
        "\n",
        "print(\"Model berhasil disimpan!\")"
      ]
    },
    {
      "cell_type": "markdown",
      "metadata": {
        "id": "abEO4yGOgkyR"
      },
      "source": [
        "## Pengujian"
      ]
    },
    {
      "cell_type": "code",
      "execution_count": null,
      "metadata": {
        "id": "qgm2YeGcC9Jg"
      },
      "outputs": [],
      "source": [
        "import joblib\n",
        "import numpy as np\n",
        "\n",
        "count_vectorizer = joblib.load(\"./assets/count_vectorizer.pkl\")\n",
        "tfidf_transformer = joblib.load(\"./assets/tfidf_transformer.pkl\")\n",
        "model = joblib.load(\"./assets/NEW_optimized_hybrid_model.pkl\")"
      ]
    },
    {
      "cell_type": "code",
      "execution_count": null,
      "metadata": {
        "colab": {
          "base_uri": "https://localhost:8080/"
        },
        "id": "uTqqUUOfC-nj",
        "outputId": "bc0a8e6e-05f3-49be-81bb-afc246d4589e"
      },
      "outputs": [
        {
          "name": "stdout",
          "output_type": "stream",
          "text": [
            "Hasil Prediksi: Netral\n",
            "Probabilitas:\n",
            "Negatif: 0.1317\n",
            "Netral: 0.5173\n",
            "Positif: 0.3510\n"
          ]
        }
      ],
      "source": [
        "def preprocess_text(text):\n",
        "    text = remove_URL(text)\n",
        "    text = remove_html(text)\n",
        "    text = remove_emoji(text)\n",
        "    text = remove_symbols(text)\n",
        "    text = remove_numbers(text)\n",
        "    text = remove_punctuation(text)\n",
        "    text = remove_extra_whitespace(text)\n",
        "    text = case_folding(text)\n",
        "    text = tokenize(text)\n",
        "    text = normalisasi(text, data_kamus)\n",
        "    text = negation_handling(text)\n",
        "    text = remove_stopwords(text)\n",
        "    text = stem_text(text)\n",
        "    return text\n",
        "\n",
        "def predict_sentiment(text_input):\n",
        "    global cleaned_text\n",
        "    if not text_input.strip():\n",
        "        return \"Input tidak boleh kosong!\"\n",
        "\n",
        "    cleaned_text = preprocess_text(text_input)\n",
        "\n",
        "    text_counts = count_vectorizer.transform([cleaned_text])\n",
        "    transformed_text = tfidf_transformer.transform(text_counts)\n",
        "\n",
        "    # Ubah sparse matrix menjadi dense agar kompatibel dengan SVC\n",
        "    transformed_text_dense = transformed_text.toarray()\n",
        "\n",
        "    prediction = model.predict(transformed_text_dense)[0]\n",
        "\n",
        "    probabilities = model.predict_proba(transformed_text_dense)[0]\n",
        "\n",
        "    label_mapping = {0: \"Negatif\", 1: \"Netral\", 2: \"Positif\"}\n",
        "    label = label_mapping.get(prediction, \"Tidak diketahui\")\n",
        "\n",
        "    # output probabilitas\n",
        "    prob_output = \"\\n\".join([\n",
        "        f\"{label_mapping[i]}: {prob:.4f}\" for i, prob in enumerate(probabilities)\n",
        "    ])\n",
        "\n",
        "    return f\"Hasil Prediksi: {label}\\nProbabilitas:\\n{prob_output}\"\n",
        "\n",
        "user_input = input(\"Masukkan ulasan aplikasi Uniqlo: \")\n",
        "hasil_prediksi = predict_sentiment(user_input)\n",
        "print(hasil_prediksi)"
      ]
    }
  ],
  "metadata": {
    "colab": {
      "collapsed_sections": [
        "_XkWiURnvHWc",
        "7VQeE3e8dRYU",
        "DXXW2yWTPRNq",
        "9Sb18nwfSoLX",
        "8lpuqBvJXpLl",
        "sQ0dVnClXPnL",
        "t1xE3nbfXYvN"
      ],
      "provenance": []
    },
    "kernelspec": {
      "display_name": "Python 3",
      "name": "python3"
    },
    "language_info": {
      "codemirror_mode": {
        "name": "ipython",
        "version": 3
      },
      "file_extension": ".py",
      "mimetype": "text/x-python",
      "name": "python",
      "nbconvert_exporter": "python",
      "pygments_lexer": "ipython3",
      "version": "3.8.10"
    }
  },
  "nbformat": 4,
  "nbformat_minor": 0
}
